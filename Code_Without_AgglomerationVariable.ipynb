{
 "cells": [
  {
   "cell_type": "code",
   "execution_count": null,
   "metadata": {},
   "outputs": [],
   "source": []
  },
  {
   "cell_type": "markdown",
   "metadata": {},
   "source": [
    "# **ACCIDENTOLOGY PROJECT: KAGGLE ESIEE 2023 - 2024**"
   ]
  },
  {
   "cell_type": "code",
   "execution_count": 255,
   "metadata": {},
   "outputs": [],
   "source": [
    "import pandas as pd\n",
    "import numpy as np\n",
    "import matplotlib.pyplot as plt\n",
    "\n",
    "from sklearn.model_selection import train_test_split\n",
    "import lightgbm as lgb\n",
    "from sklearn.metrics import roc_auc_score"
   ]
  },
  {
   "cell_type": "code",
   "execution_count": 256,
   "metadata": {},
   "outputs": [],
   "source": [
    "pd.set_option('display.max_columns', None)"
   ]
  },
  {
   "cell_type": "markdown",
   "metadata": {},
   "source": [
    "# **OPENING FILES**"
   ]
  },
  {
   "cell_type": "code",
   "execution_count": 257,
   "metadata": {},
   "outputs": [],
   "source": [
    "def open_file(item):\n",
    "   \n",
    "    all_data = pd.DataFrame()\n",
    "\n",
    "    #Loop on every Years\n",
    "    for year in range(2012, 2023):\n",
    "        path = f\"TRAIN/BAAC-Annee-{year}/{item}_{year}_.csv\"\n",
    "        try:\n",
    "            file = pd.read_csv(path, delimiter=';', index_col = 0,low_memory=False)\n",
    "            all_data = pd.concat([all_data, file])\n",
    "        except FileNotFoundError:\n",
    "            print(f\"File {path} was not found.\")\n",
    "        except Exception as e:\n",
    "            print(f\"Reading {path} create an error: {e}\")\n",
    "\n",
    "    return all_data"
   ]
  },
  {
   "cell_type": "code",
   "execution_count": 258,
   "metadata": {},
   "outputs": [],
   "source": [
    "def create_dataframe():\n",
    "\n",
    "    caracteristics = open_file('caracteristiques')\n",
    "    localisation = open_file('lieux')\n",
    "    users = open_file('usagers')\n",
    "    vehicles = open_file('vehicules')\n",
    "\n",
    "    return caracteristics,localisation,users,vehicles"
   ]
  },
  {
   "cell_type": "code",
   "execution_count": 259,
   "metadata": {},
   "outputs": [],
   "source": [
    "caracteristics,localisation,users,vehicles = create_dataframe()"
   ]
  },
  {
   "cell_type": "markdown",
   "metadata": {},
   "source": [
    "### **Isolation of the 'Grave' Column**"
   ]
  },
  {
   "cell_type": "code",
   "execution_count": 260,
   "metadata": {},
   "outputs": [],
   "source": [
    "# Convert the 'grav' column to a numpy array\n",
    "grav_array = users['grav'].values\n",
    "num_acc_array = users['Num_Acc'].values\n",
    "\n",
    "# Create an array for the presence of 'GRAVE'\n",
    "is_grave = np.isin(grav_array, [2, 3])\n",
    "\n",
    "# Use numpy ufuncs to create a mapping from 'Num_Acc' to 'GRAVE'\n",
    "unique_nums, grave_presence = np.unique(num_acc_array, return_inverse=True)\n",
    "result = np.bitwise_or.reduceat(is_grave, np.r_[0, np.where(np.diff(num_acc_array))[0]+1])"
   ]
  },
  {
   "cell_type": "code",
   "execution_count": 261,
   "metadata": {},
   "outputs": [],
   "source": [
    "users.drop('grav',axis = 1,inplace = True)"
   ]
  },
  {
   "cell_type": "code",
   "execution_count": 262,
   "metadata": {},
   "outputs": [],
   "source": [
    "# Création du DataFrame\n",
    "df_grave = pd.DataFrame({\n",
    "    'Num_Acc': unique_nums,\n",
    "    'GRAVE': result\n",
    "})\n",
    "\n",
    "df_grave['GRAVE'] = df_grave['GRAVE'].astype(int)"
   ]
  },
  {
   "cell_type": "markdown",
   "metadata": {},
   "source": [
    "### **Merge GRAVE + Dataframe :** "
   ]
  },
  {
   "cell_type": "code",
   "execution_count": 263,
   "metadata": {},
   "outputs": [],
   "source": [
    "def merge_grave(df):\n",
    "\n",
    "    return df_grave.merge(df,on = \"Num_Acc\",how = 'left')"
   ]
  },
  {
   "cell_type": "markdown",
   "metadata": {},
   "source": [
    "### **Analysis Function :**"
   ]
  },
  {
   "cell_type": "code",
   "execution_count": 264,
   "metadata": {},
   "outputs": [],
   "source": [
    "def summary_info(df):\n",
    "\n",
    "    # Creation of an Informative Dataframe\n",
    "    return  pd.DataFrame({\n",
    "        'NaN_Count': df.isna().sum().astype(int),\n",
    "        'Nan_ratio': df.isna().mean().astype(float),\n",
    "        '-1_Count': df.eq(-1).sum().astype(int),\n",
    "        '0_Count': df.eq(0).sum().astype(int)\n",
    "    })"
   ]
  },
  {
   "cell_type": "markdown",
   "metadata": {},
   "source": [
    "### **Agglomeration Function :**"
   ]
  },
  {
   "cell_type": "code",
   "execution_count": 265,
   "metadata": {},
   "outputs": [],
   "source": [
    "def column_aggreg(df, column):\n",
    "    # One-hot encoding on the specified column\n",
    "    one_hot_encoded = pd.get_dummies(df[column], prefix=column)\n",
    "\n",
    "    # Add the 'Num_Acc' column to merge results later\n",
    "    one_hot_encoded['Num_Acc'] = df['Num_Acc']\n",
    "\n",
    "    # Aggregate results for each accident\n",
    "    one_hot_encoded_grouped = one_hot_encoded.groupby('Num_Acc').sum().reset_index()\n",
    "\n",
    "    # Merge these results with the initial DataFrame\n",
    "    df = pd.merge(df, one_hot_encoded_grouped, on='Num_Acc', how='left')\n",
    "\n",
    "    return df\n"
   ]
  },
  {
   "cell_type": "markdown",
   "metadata": {},
   "source": [
    "# **USERS :**"
   ]
  },
  {
   "cell_type": "markdown",
   "metadata": {},
   "source": [
    "## **PREPROCESSING :**"
   ]
  },
  {
   "cell_type": "code",
   "execution_count": 266,
   "metadata": {},
   "outputs": [],
   "source": [
    "def users_del_(df):\n",
    "\n",
    "    col_to_drop = ['id_vehicule','id_usager','secu2','secu3','actp']\n",
    "    df = df.drop(col_to_drop,axis = 1)\n",
    "\n",
    "    return df"
   ]
  },
  {
   "cell_type": "code",
   "execution_count": 267,
   "metadata": {},
   "outputs": [],
   "source": [
    "def users_NaN_(df):\n",
    "\n",
    "    col_to_replace = ['place','trajet']\n",
    "\n",
    "    df[col_to_replace] = df[col_to_replace].replace(np.nan,-1)\n",
    "    \n",
    "    return df"
   ]
  },
  {
   "cell_type": "code",
   "execution_count": 268,
   "metadata": {},
   "outputs": [],
   "source": [
    "def users_correction_(df):\n",
    "    df['locp'] = df['locp'].replace(9, -1)\n",
    "    df['trajet'] = df['trajet'].replace(0, -1)\n",
    "\n",
    "    # Calculate the median excluding NaNs\n",
    "    median_an_nais = df['an_nais'].median()\n",
    "\n",
    "    # Replace NaNs with the median in the 'an_nais' column\n",
    "    df['an_nais'] = df['an_nais'].fillna(median_an_nais)\n",
    "\n",
    "    return df\n"
   ]
  },
  {
   "cell_type": "code",
   "execution_count": 269,
   "metadata": {},
   "outputs": [],
   "source": [
    "def pedestrian_correction_(df):\n",
    "    # Conditional replacement of values\n",
    "    condition_3 = (df['catu'] == 3) & df['locp'].isna() & df['etatp'].isna()\n",
    "\n",
    "    # Condition for catu != 3 and all relevant values are NaN\n",
    "    condition_not_3 = (df['catu'] != 3) & df['locp'].isna() & df['etatp'].isna()\n",
    "\n",
    "    # Apply the conditions to the three columns\n",
    "    df.loc[condition_3, ['locp', 'etatp']] = -1\n",
    "    df.loc[condition_not_3, ['locp', 'etatp']] = 0\n",
    "\n",
    "    col_to_replace = ['locp', 'etatp']\n",
    "\n",
    "    df[col_to_replace] = df[col_to_replace].replace(np.nan, -1)\n",
    "\n",
    "    return df\n"
   ]
  },
  {
   "cell_type": "code",
   "execution_count": 270,
   "metadata": {},
   "outputs": [],
   "source": [
    "def adjust_secu(value):\n",
    "    if value in [1, 2, 3, 4, 9]:\n",
    "        return -1\n",
    "    elif value >= 10:\n",
    "        tens = int(value // 10)\n",
    "        units = int(value % 10)\n",
    "        if units == 1:\n",
    "            return tens\n",
    "        elif units == 3:\n",
    "            return 3\n",
    "        elif units == 2:\n",
    "            return 0\n",
    "        else:\n",
    "            return value  # If none of the other conditions are met, return the original value\n",
    "    else:\n",
    "        return value  # For negative cases and other undefined cases\n",
    "\n",
    "def merge_columns(df):\n",
    "    df['secu'] = df['secu'].fillna(df['secu1'])\n",
    "    df['secu'] = df['secu'].replace([9, 4, 6, 5, 7], 0)\n",
    "    df['secu'] = df['secu'].fillna(-1)\n",
    "    df.drop(['secu1'], axis=1, inplace=True)\n",
    "    \n",
    "    return df\n"
   ]
  },
  {
   "cell_type": "code",
   "execution_count": 271,
   "metadata": {},
   "outputs": [],
   "source": [
    "def usagers_preprocessing_(df):\n",
    "\n",
    "    df = users_del_(df)\n",
    "    df = users_NaN_(df)\n",
    "    df = pedestrian_correction_(df)\n",
    "    df = users_correction_(df)\n",
    "\n",
    "    df['secu'] = df['secu'].apply(adjust_secu)\n",
    "    df = merge_columns(df)\n",
    "\n",
    "    cols_to_convert_category = ['place','catu','sexe','trajet','secu','locp','etatp','num_veh']\n",
    "\n",
    "    df[cols_to_convert_category] = df[cols_to_convert_category].astype('category')\n",
    "\n",
    "    return df"
   ]
  },
  {
   "cell_type": "markdown",
   "metadata": {},
   "source": [
    "## **FEATURE ENGINEERING :**"
   ]
  },
  {
   "cell_type": "code",
   "execution_count": 272,
   "metadata": {},
   "outputs": [],
   "source": [
    "def create_age(df):\n",
    "\n",
    "    # Calculate the median excluding NaNs\n",
    "    median_an_nais = df['an_nais'].median()\n",
    "\n",
    "    # Replace NaNs with the median in the 'an_nais' column\n",
    "    df['an_nais'].fillna(median_an_nais, inplace=True)\n",
    "\n",
    "    \n",
    "    df['an_nais'] = df['an_nais'].astype(int)\n",
    "    df['age'] = df['Num_Acc'].astype(str).str[:4].astype(int) - df['an_nais']\n",
    "\n",
    "    df['age'] = df['age'].astype(int)\n",
    "    \n",
    "    return df"
   ]
  },
  {
   "cell_type": "code",
   "execution_count": 273,
   "metadata": {},
   "outputs": [],
   "source": [
    "def create_catu(df):\n",
    "\n",
    "    df['total_usagers'] = df.groupby('Num_Acc')['Num_Acc'].transform('count')\n",
    "    \n",
    "    df['nb_conducteurs'] = df['catu'].eq(1).groupby(df['Num_Acc']).transform('sum').astype(int)\n",
    "    df['nb_passagers'] = df['catu'].eq(2).groupby(df['Num_Acc']).transform('sum').astype(int)\n",
    "\n",
    "    df['ratio_conducteurs'] = df['nb_conducteurs'] / df['total_usagers']\n",
    "    df['ratio_passagers'] = df['nb_passagers'] / df['total_usagers']\n",
    "    \n",
    "    return df"
   ]
  },
  {
   "cell_type": "code",
   "execution_count": 274,
   "metadata": {},
   "outputs": [],
   "source": [
    "def secu_catu(df):\n",
    "    # 1. Group by the \"Num_Acc\" column and count the drivers with seat belts\n",
    "    drivers_with_seatbelts = df[df['secu'] == 1 & (df['catu'] == 1)].groupby('Num_Acc').size().reset_index(name='nombre_conducteur_avec_ceinture')\n",
    "\n",
    "    # 2. Merge the results with your initial DataFrame\n",
    "    df = pd.merge(df, drivers_with_seatbelts, on='Num_Acc', how='left')\n",
    "\n",
    "    # 1. Group by the \"Num_Acc\" column and count the passengers with seat belts\n",
    "    passengers_with_seatbelts = df[df['secu'] == 1 & (df['catu'] == 2)].groupby('Num_Acc').size().reset_index(name='nombre_passagers_avec_ceinture')\n",
    "\n",
    "    # 2. Merge the results with your initial DataFrame\n",
    "    df = pd.merge(df, passengers_with_seatbelts, on='Num_Acc', how='left')\n",
    "\n",
    "    df[['nombre_conducteur_avec_ceinture','nombre_passagers_avec_ceinture']] = df[['nombre_conducteur_avec_ceinture','nombre_passagers_avec_ceinture']].fillna(0)\n",
    "\n",
    "    return df"
   ]
  },
  {
   "cell_type": "code",
   "execution_count": 275,
   "metadata": {},
   "outputs": [],
   "source": [
    "def count_sexe(df):\n",
    "    # Group by 'Num_Acc' and count occurrences of each sex\n",
    "    df_sex = df.groupby('Num_Acc')['sexe'].value_counts().unstack(fill_value=0)\n",
    "\n",
    "    # Rename the columns for clarity\n",
    "    df_sex.columns = ['nb_hommes', 'nb_femmes','nb_inconnue']\n",
    "\n",
    "    # Merge with the original DataFrame# Rejoindre avec le DataFrame original\n",
    "    return df.merge(df_sex, left_on='Num_Acc', right_index=True)"
   ]
  },
  {
   "cell_type": "code",
   "execution_count": 276,
   "metadata": {},
   "outputs": [],
   "source": [
    "def age_annais(df):\n",
    "    # Group by 'Num_Acc' and calculate the means\n",
    "    grouped = df.groupby('Num_Acc')\n",
    "    mean_age = grouped['age'].mean()\n",
    "    mean_an_nais = grouped['an_nais'].mean()\n",
    "\n",
    "    # Create new columns in the original DataFrame for the means\n",
    "    df['age'] = df['Num_Acc'].map(mean_age)\n",
    "    df['an_nais'] = df['Num_Acc'].map(mean_an_nais)\n",
    "    \n",
    "    return df\n"
   ]
  },
  {
   "cell_type": "code",
   "execution_count": 277,
   "metadata": {},
   "outputs": [],
   "source": [
    "def feature_engineering_users(df):\n",
    "\n",
    "    df = usagers_preprocessing_(df)\n",
    "\n",
    "    df = create_age(df)\n",
    "    df = create_catu(df)\n",
    "    df = secu_catu(df)\n",
    "    df = count_sexe(df)\n",
    "    df = column_aggreg(df,'secu')\n",
    "    df = column_aggreg(df,'trajet')\n",
    "    df = column_aggreg(df,'place')\n",
    "    df = column_aggreg(df,'locp')\n",
    "    df = column_aggreg(df,'etatp')\n",
    "    df = age_annais(df)\n",
    "\n",
    "    col_to_drop = ['secu','trajet','place','sexe','locp','etatp','num_veh','catu','nb_inconnue']\n",
    "\n",
    "    df = df.drop(col_to_drop,axis = 1)\n",
    "\n",
    "    df = df.drop_duplicates(subset='Num_Acc', keep='first')\n",
    "    \n",
    "    return df"
   ]
  },
  {
   "cell_type": "markdown",
   "metadata": {},
   "source": [
    "# **VEHICLES :**"
   ]
  },
  {
   "cell_type": "markdown",
   "metadata": {},
   "source": [
    "## **PREPROCESSING :**"
   ]
  },
  {
   "cell_type": "code",
   "execution_count": 278,
   "metadata": {},
   "outputs": [],
   "source": [
    "def vehicles_del_(df):\n",
    "\n",
    "    col_to_drop = ['id_vehicule','num_veh','occutc']\n",
    "    df = df.drop(col_to_drop,axis = 1)\n",
    "\n",
    "    return df"
   ]
  },
  {
   "cell_type": "code",
   "execution_count": 279,
   "metadata": {},
   "outputs": [],
   "source": [
    "def vehicles_NaN_(df):\n",
    "\n",
    "    col_to_replace = ['senc','catv','obs','obsm','choc','manv','motor']\n",
    "\n",
    "    df[col_to_replace] = df[col_to_replace].replace(np.nan,-1)\n",
    "    \n",
    "    return df"
   ]
  },
  {
   "cell_type": "code",
   "execution_count": 280,
   "metadata": {},
   "outputs": [],
   "source": [
    "def vehicles_correction_(df):\n",
    "\n",
    "    cols_to_replace = ['senc','catv','choc','manv','motor']\n",
    "    df[cols_to_replace] = df[cols_to_replace].replace(0,-1)\n",
    "\n",
    "    return df"
   ]
  },
  {
   "cell_type": "code",
   "execution_count": 281,
   "metadata": {},
   "outputs": [],
   "source": [
    "def vehicles_preprocessing_(df):\n",
    "\n",
    "    df = vehicles_del_(df)\n",
    "    df = vehicles_NaN_(df)\n",
    "    df = vehicles_correction_(df)\n",
    "\n",
    "    cols_to_convert = ['senc','catv','obs','obsm','choc','manv','motor']\n",
    "    df[cols_to_convert] = df[cols_to_convert].astype('category')\n",
    "\n",
    "    return df"
   ]
  },
  {
   "cell_type": "markdown",
   "metadata": {},
   "source": [
    "## **FEATURE ENGINEERING :**"
   ]
  },
  {
   "cell_type": "code",
   "execution_count": 282,
   "metadata": {},
   "outputs": [],
   "source": [
    "def catv_category(df):\n",
    "    set_moto = {1, 2, 3, 4, 5, 6, 30, 31, 32, 33, 34}\n",
    "    set_vl = {7, 8, 9, 10, 11, 12}\n",
    "    set_pl = {13, 14, 15}\n",
    "    set_edp = {50, 80}\n",
    "\n",
    "    def check_moto_vl(catv_set):\n",
    "        return 1 if (set_moto.intersection(catv_set) and set_vl.intersection(catv_set)) else 0\n",
    "    \n",
    "    def check_pl_vl(catv_set):\n",
    "        return 1 if (set_pl.intersection(catv_set) and set_vl.intersection(catv_set)) else 0\n",
    "    \n",
    "    def check_pl_moto(catv_set):\n",
    "        return 1 if (set_moto.intersection(catv_set) and set_pl.intersection(catv_set)) else 0\n",
    "    \n",
    "    # Group by 'Num_Acc' and apply set() on 'catv'\n",
    "    grouped = df.groupby('Num_Acc')['catv'].apply(set)\n",
    "\n",
    "    # Create columns for different accident types, initialized to 0\n",
    "    df['Accident_Moto_Voiture'] = 0\n",
    "    df['Accident_Moto_Camion'] = 0\n",
    "    df['Accident_Voiture_Camion'] = 0\n",
    "\n",
    "    df['Accident_Moto_Camion'] = df['Num_Acc'].map(grouped.apply(check_pl_moto))\n",
    "    df['Accident_Voiture_Camion'] = df['Num_Acc'].map(grouped.apply(check_pl_vl))\n",
    "    df['Accident_Moto_Voiture'] = df['Num_Acc'].map(grouped.apply(check_moto_vl))\n",
    "    \n",
    "    return df"
   ]
  },
  {
   "cell_type": "code",
   "execution_count": 283,
   "metadata": {},
   "outputs": [],
   "source": [
    "def manv_catv(df):\n",
    "    \n",
    "    set_moto = {1, 2, 3, 4, 5, 6, 30, 31, 32, 33, 34}\n",
    "\n",
    "    # Create columns indicating specific accidents\n",
    "    df['Accident_Moto_Gauche'] = ((df['manv'] == 17) & df['catv'].isin(set_moto)).astype(int)\n",
    "\n",
    "    return df"
   ]
  },
  {
   "cell_type": "code",
   "execution_count": 284,
   "metadata": {},
   "outputs": [],
   "source": [
    "def obsm_pedestiran(df):\n",
    "    set_vl_pieton = {7, 8, 9, 10, 11, 12}\n",
    "    set_pl_pieton = {13, 14, 15, 37, 38, 39, 40}\n",
    "    set_vl = {1, 2, 3, 4, 5, 6, 30, 31, 32, 33, 34}\n",
    "\n",
    "    # Conditions for each type of collision\n",
    "    df['Colision_Voiture_Pieton'] = ((df['catv'].isin(set_vl_pieton)) & (df['obsm'] == 1)).astype(int)\n",
    "    df['Colision_PL_Pieton'] = ((df['catv'].isin(set_pl_pieton)) & (df['obsm'] == 1)).astype(int)\n",
    "    df['Colision_VL_Pieton'] = ((df['catv'].isin(set_vl)) & (df['obsm'] == 1)).astype(int)\n",
    "\n",
    "    df['Colision_Voiture_Pieton'] = df.groupby('Num_Acc')['Colision_Voiture_Pieton'].transform('max')\n",
    "    df['Colision_PL_Pieton'] = df.groupby('Num_Acc')['Colision_PL_Pieton'].transform('max')\n",
    "    df['Colision_VL_Pieton'] = df.groupby('Num_Acc')['Colision_VL_Pieton'].transform('max')\n",
    "\n",
    "    return df"
   ]
  },
  {
   "cell_type": "code",
   "execution_count": 285,
   "metadata": {},
   "outputs": [],
   "source": [
    "def frontal_collision(df):\n",
    "\n",
    "    def fontral_collision_verif(choc_set):\n",
    "        target_set = {1, 2, 3}\n",
    "        # Find the intersection of the choc set and the target set\n",
    "        intersection = choc_set.intersection(target_set)\n",
    "        # Return 1 if at least two distinct elements are found\n",
    "        return 1 if len(intersection) >= 2 else 0\n",
    "\n",
    "\n",
    "    grouped_choc = df.groupby('Num_Acc')['choc'].apply(set)\n",
    "\n",
    "    df['Collision_Frontale'] = df['Num_Acc'].map(grouped_choc.apply(fontral_collision_verif))\n",
    "\n",
    "    return df"
   ]
  },
  {
   "cell_type": "code",
   "execution_count": 286,
   "metadata": {},
   "outputs": [],
   "source": [
    "def feature_engineering_vehicles(df):\n",
    "\n",
    "    df = vehicles_preprocessing_(df)\n",
    "    df = catv_category(df)\n",
    "    df = manv_catv(df)\n",
    "    df = obsm_pedestiran(df)\n",
    "    df = frontal_collision(df)\n",
    "\n",
    "    df = column_aggreg(df,'manv')\n",
    "    df = column_aggreg(df,'obs')\n",
    "    df = column_aggreg(df,'obsm')\n",
    "    df = column_aggreg(df,'catv')\n",
    "    df = column_aggreg(df,'choc')\n",
    "    df = column_aggreg(df,'motor')\n",
    "\n",
    "    col_to_drop = ['manv','obs','obsm','catv','choc','motor']\n",
    "\n",
    "    df = df.drop(col_to_drop,axis = 1)\n",
    "\n",
    "    df = df.drop_duplicates(subset='Num_Acc', keep='first')\n",
    "    \n",
    "    return df"
   ]
  },
  {
   "cell_type": "markdown",
   "metadata": {},
   "source": [
    "# **CARACTERISTICS :**"
   ]
  },
  {
   "cell_type": "markdown",
   "metadata": {},
   "source": [
    "## **PREPROCESSING :**"
   ]
  },
  {
   "cell_type": "code",
   "execution_count": 287,
   "metadata": {},
   "outputs": [],
   "source": [
    "def caracteristics_del_(df):\n",
    "\n",
    "    col_to_drop = ['adr','lat','long']\n",
    "    df = df.drop(col_to_drop,axis = 1)\n",
    "\n",
    "    return df"
   ]
  },
  {
   "cell_type": "code",
   "execution_count": 288,
   "metadata": {},
   "outputs": [],
   "source": [
    "def caracteristics_NaN_(df):\n",
    "\n",
    "    col_to_replace = ['atm','col','gps']\n",
    "\n",
    "    df[col_to_replace] = df[col_to_replace].replace(np.nan,-1)\n",
    "    \n",
    "    return df"
   ]
  },
  {
   "cell_type": "code",
   "execution_count": 289,
   "metadata": {},
   "outputs": [],
   "source": [
    "def caracteristics_correction_(df):\n",
    "\n",
    "    df['int'] = df['int'].replace(0,-1)\n",
    "\n",
    "    return df"
   ]
  },
  {
   "cell_type": "code",
   "execution_count": 290,
   "metadata": {},
   "outputs": [],
   "source": [
    "def adjust_year(year):\n",
    "    if year < 100:  # Assume any value < 100 represents the last two digits of the year\n",
    "        return 2000 + year\n",
    "    else:\n",
    "        return year"
   ]
  },
  {
   "cell_type": "code",
   "execution_count": 291,
   "metadata": {},
   "outputs": [],
   "source": [
    "def convert_time_to_minutes(time_str):\n",
    "    # Ensure all entries are strings\n",
    "    time_str = str(time_str)\n",
    "    \n",
    "    if ':' in time_str:  # Format HH:MM\n",
    "        hours, minutes = map(str, time_str.split(':'))\n",
    "        return int(hours + minutes)\n",
    "    else:  # Format as an integer representing minutes or times like '1800' meaning 18:00\n",
    "        time_str = time_str.zfill(4)  # Ensure the string has at least 4 characters (e.g., '533' becomes '0533')\n",
    "        hours = str(time_str[:2])\n",
    "        minutes = str(time_str[2:])\n",
    "        return int(hours + minutes)\n",
    "\n",
    "def process_hrmn(df):\n",
    "    df['hrmn'] = df['hrmn'].apply(convert_time_to_minutes)\n",
    "    df['hrmn'] = df['hrmn'].apply(lambda x: round(x / 100) * 100)\n",
    "\n",
    "    return df\n"
   ]
  },
  {
   "cell_type": "code",
   "execution_count": 292,
   "metadata": {},
   "outputs": [],
   "source": [
    "def clean_dep(dep, an):\n",
    "    if an <= 2018 and dep not in [201, 202, 972, 973, 974, 976]:\n",
    "        return int(dep) // 10\n",
    "\n",
    "    return dep\n",
    "\n",
    "def preprocessing_dep(df):\n",
    "\n",
    "    df['dep'] = df['dep'].replace('2B',201)\n",
    "    df['dep'] = df['dep'].replace('2A',202)\n",
    "    df['dep'] = df.apply(lambda row: clean_dep(row['dep'], row['an']), axis=1)\n",
    "\n",
    "    return df"
   ]
  },
  {
   "cell_type": "code",
   "execution_count": 293,
   "metadata": {},
   "outputs": [],
   "source": [
    "def caracteristiques_preprocessing_(df):\n",
    "\n",
    "    df = caracteristics_del_(df)\n",
    "    df = caracteristics_NaN_(df)\n",
    "    df = caracteristics_correction_(df)\n",
    "\n",
    "    df['an'] = df['an'].apply(adjust_year)\n",
    "    df = process_hrmn(df)\n",
    "    df = preprocessing_dep(df)\n",
    "\n",
    "    category_columns = ['lum','agg','int','atm','col','dep']\n",
    "    df[['an','jour','mois','hrmn']] = df[['an','jour','mois','hrmn']].astype(int)\n",
    "    df[category_columns] = df[category_columns].astype(int)\n",
    "\n",
    "    category_columns.append('gps')\n",
    "    category_columns.append('com')\n",
    "\n",
    "    df[category_columns] = df[category_columns].astype('category')\n",
    "\n",
    "    return df"
   ]
  },
  {
   "cell_type": "markdown",
   "metadata": {},
   "source": [
    "## **FEATURE ENGINEERING :**"
   ]
  },
  {
   "cell_type": "code",
   "execution_count": 294,
   "metadata": {},
   "outputs": [],
   "source": [
    "def feature_engineering_caracteristics(df):\n",
    "\n",
    "    df = caracteristiques_preprocessing_(df)\n",
    "    \n",
    "    return df"
   ]
  },
  {
   "cell_type": "markdown",
   "metadata": {},
   "source": [
    "# **LOCALISATION :**"
   ]
  },
  {
   "cell_type": "code",
   "execution_count": 295,
   "metadata": {},
   "outputs": [],
   "source": [
    "def localisation_del_(df):\n",
    "\n",
    "    col_to_drop = ['voie','lartpc']\n",
    "    df = df.drop(col_to_drop,axis = 1)\n",
    "\n",
    "    return df"
   ]
  },
  {
   "cell_type": "code",
   "execution_count": 296,
   "metadata": {},
   "outputs": [],
   "source": [
    "def localisation_NaN_(df):\n",
    "\n",
    "    col_to_replace = ['circ','vosp','prof','plan','larrout','surf','infra','situ','vma','env1','pr','pr1','v1','v2']\n",
    "\n",
    "    df[col_to_replace] = df[col_to_replace].replace(np.nan,-1)\n",
    "    \n",
    "    return df"
   ]
  },
  {
   "cell_type": "code",
   "execution_count": 297,
   "metadata": {},
   "outputs": [],
   "source": [
    "def localisation_correction_(df):\n",
    "\n",
    "    df['nbv'] = df['nbv'].replace(\"#ERREUR\",-1)\n",
    "    df['nbv'] = df['nbv'].replace(\" -1\",-1)\n",
    "    df['nbv'] = df['nbv'].fillna(-1)\n",
    "    df['nbv'] = df['nbv'].astype(int)\n",
    "\n",
    "    cols_to_replace = ['nbv']\n",
    "\n",
    "    cols_to_replace = ['surf']\n",
    "\n",
    "    df[cols_to_replace] = df[cols_to_replace].replace(0,-1)\n",
    "\n",
    "    return df"
   ]
  },
  {
   "cell_type": "code",
   "execution_count": 298,
   "metadata": {},
   "outputs": [],
   "source": [
    "def modif_larrout(df):\n",
    "\n",
    "    df['larrout'] = df['larrout'].astype(str)\n",
    "    df['larrout'] = df['larrout'].str.replace(',', '.').str.strip()\n",
    "    df['larrout'] = df['larrout'].str.replace(\" -1\", \"-1\")\n",
    "    df['larrout'] = df['larrout'].astype(float)\n",
    "    df['larrout'] = np.where(df['larrout'] > 1, np.ceil(df['larrout'] / 100), df['larrout'])\n",
    "    df['larrout'] = np.where(df['larrout'] > 2, 2, df['larrout'])\n",
    "    \n",
    "    return df"
   ]
  },
  {
   "cell_type": "code",
   "execution_count": 299,
   "metadata": {},
   "outputs": [],
   "source": [
    "def localisation_preprocessing(df):\n",
    "\n",
    "    df = localisation_del_(df)\n",
    "    df = localisation_NaN_(df)\n",
    "    df = localisation_correction_(df)\n",
    "\n",
    "    df = modif_larrout(df)\n",
    "\n",
    "    column = ['catr','circ','vosp','prof','plan','surf','infra','situ','larrout']\n",
    "    df[column] = df[column].astype(int)\n",
    "\n",
    "    column = ['catr','circ','vosp','prof','plan','surf','infra','situ','env1','vma','pr','pr1','v1','v2']\n",
    "\n",
    "    df[column] = df[column].astype('category')\n",
    "\n",
    "    return df"
   ]
  },
  {
   "cell_type": "markdown",
   "metadata": {},
   "source": [
    "## **FEATURE ENGINEERING :**"
   ]
  },
  {
   "cell_type": "code",
   "execution_count": 300,
   "metadata": {},
   "outputs": [],
   "source": [
    "def feature_engineering_localisation(df):\n",
    "\n",
    "    df = localisation_preprocessing(df)\n",
    "\n",
    "    return df"
   ]
  },
  {
   "cell_type": "markdown",
   "metadata": {},
   "source": [
    "# **TRAINING MODEL :**"
   ]
  },
  {
   "cell_type": "code",
   "execution_count": 301,
   "metadata": {},
   "outputs": [
    {
     "name": "stderr",
     "output_type": "stream",
     "text": [
      "C:\\Users\\lucie\\AppData\\Local\\Temp\\ipykernel_16036\\2146645702.py:7: FutureWarning: A value is trying to be set on a copy of a DataFrame or Series through chained assignment using an inplace method.\n",
      "The behavior will change in pandas 3.0. This inplace method will never work because the intermediate object on which we are setting values always behaves as a copy.\n",
      "\n",
      "For example, when doing 'df[col].method(value, inplace=True)', try using 'df.method({col: value}, inplace=True)' or df[col] = df[col].method(value) instead, to perform the operation inplace on the original object.\n",
      "\n",
      "\n",
      "  df['an_nais'].fillna(median_an_nais, inplace=True)\n"
     ]
    }
   ],
   "source": [
    "users = feature_engineering_users(users)"
   ]
  },
  {
   "cell_type": "code",
   "execution_count": 302,
   "metadata": {},
   "outputs": [],
   "source": [
    "vehicles = feature_engineering_vehicles(vehicles)"
   ]
  },
  {
   "cell_type": "code",
   "execution_count": 303,
   "metadata": {},
   "outputs": [],
   "source": [
    "caracteristics = feature_engineering_caracteristics(caracteristics)"
   ]
  },
  {
   "cell_type": "code",
   "execution_count": 304,
   "metadata": {},
   "outputs": [],
   "source": [
    "localisation = feature_engineering_localisation(localisation)"
   ]
  },
  {
   "cell_type": "code",
   "execution_count": 305,
   "metadata": {},
   "outputs": [],
   "source": [
    "df = users.merge(vehicles,on = 'Num_Acc',how  = 'left')\n",
    "df = caracteristics.merge(df,on = 'Num_Acc',how  = 'left')\n",
    "df = localisation.merge(df,on = 'Num_Acc',how  = 'left')"
   ]
  },
  {
   "cell_type": "code",
   "execution_count": 306,
   "metadata": {},
   "outputs": [],
   "source": [
    "df = df_grave.merge(df,on = 'Num_Acc',how  = 'left')"
   ]
  },
  {
   "cell_type": "code",
   "execution_count": 307,
   "metadata": {},
   "outputs": [],
   "source": [
    "list_features = df.columns\n",
    "list_features = [column for column in list_features if column not in ['GRAVE']]"
   ]
  },
  {
   "cell_type": "code",
   "execution_count": 310,
   "metadata": {},
   "outputs": [],
   "source": [
    "X = df.drop(['Num_Acc','GRAVE'],axis = 1)\n",
    "y = df['GRAVE']"
   ]
  },
  {
   "cell_type": "code",
   "execution_count": 315,
   "metadata": {},
   "outputs": [],
   "source": [
    "X_train, X_test, y_train, y_test = train_test_split(X, y, test_size=0.3, random_state=42)"
   ]
  },
  {
   "cell_type": "code",
   "execution_count": 318,
   "metadata": {},
   "outputs": [],
   "source": [
    "def importance_values(feature_imp_df):\n",
    "    # Take only the top 20 features\n",
    "    top_20_features = feature_imp_df.head(20)\n",
    "\n",
    "    # Visualization with a bar chart\n",
    "    plt.figure(figsize=(10, 6))\n",
    "    plt.barh(top_20_features['Feature'], top_20_features['Importance'])\n",
    "    plt.xlabel('Importance')\n",
    "    plt.ylabel('Variables')\n",
    "    plt.title('Top 20 Most Important Variables in the LightGBM Model')\n",
    "    plt.gca().invert_yaxis()  # Invert the y-axis to have the most important variable at the top\n",
    "    plt.show()\n"
   ]
  },
  {
   "cell_type": "code",
   "execution_count": 319,
   "metadata": {},
   "outputs": [],
   "source": [
    "def loss_curve(evals_result):\n",
    "    # Extract L1 scores for training and validation sets\n",
    "    train_l1 = evals_result['training']['l1']\n",
    "    test_l1 = evals_result['valid_1']['l1']\n",
    "\n",
    "    # Create the plot\n",
    "    plt.figure(figsize=(10, 6))\n",
    "    plt.plot(train_l1, label='Train')\n",
    "    plt.plot(test_l1, label='Test')\n",
    "    plt.title('LightGBM Model Learning Curve')\n",
    "    plt.xlabel('Number of Iterations')\n",
    "    plt.ylabel('L1 Loss')\n",
    "    plt.legend()\n",
    "    plt.show()\n"
   ]
  },
  {
   "cell_type": "code",
   "execution_count": 320,
   "metadata": {},
   "outputs": [],
   "source": [
    "def auc_curve(evals_result):\n",
    "    train_auc = evals_result['training']['auc']\n",
    "    test_auc = evals_result['valid_1']['auc']\n",
    "\n",
    "    # Plot for AUC\n",
    "    plt.figure(figsize=(10, 6))\n",
    "    plt.plot(train_auc, label='Train AUC')\n",
    "    plt.plot(test_auc, label='Test AUC')\n",
    "    plt.title('AUC Evolution Over Iterations')\n",
    "    plt.xlabel('Number of Iterations')\n",
    "    plt.ylabel('AUC')\n",
    "    plt.legend()\n",
    "    plt.show()\n"
   ]
  },
  {
   "cell_type": "code",
   "execution_count": 321,
   "metadata": {},
   "outputs": [],
   "source": [
    "def training_model(model,X,y):\n",
    "\n",
    "    X_train, X_test, y_train, y_test = train_test_split(X, y, test_size=0.3, random_state=42)\n",
    "    evals_result = {}\n",
    "\n",
    "    model.fit(X_train, y_train,\n",
    "            eval_set=[(X_train, y_train), (X_test, y_test)],\n",
    "            eval_metric=['auc', 'l1'])\n",
    "\n",
    "    y_pred_proba_lgb = model.predict_proba(X_test)[:, 1]\n",
    "    auc_lgb = roc_auc_score(y_test, y_pred_proba_lgb)\n",
    "    print(\"AUC LightGBM:\", auc_lgb)\n",
    "\n",
    "    # Extraction des importances des variables\n",
    "    feature_importances = model.feature_importances_\n",
    "\n",
    "    evals_result = model.evals_result_\n",
    "\n",
    "    feature_imp_df = pd.DataFrame({\n",
    "    'Feature': X.columns,\n",
    "    'Importance': feature_importances\n",
    "    }).sort_values(by='Importance', ascending=False)\n",
    "\n",
    "    importance_values(feature_imp_df)\n",
    "    loss_curve(evals_result)\n",
    "    auc_curve(evals_result)\n",
    "\n",
    "    return feature_imp_df,model"
   ]
  },
  {
   "cell_type": "code",
   "execution_count": 322,
   "metadata": {},
   "outputs": [],
   "source": [
    "lgb_model = lgb.LGBMClassifier(boosting_type = 'gbdt',objective='binary',learning_rate = 0.1,n_estimators = 200,min_child_samples = 1200,num_leaves = 120)"
   ]
  },
  {
   "cell_type": "markdown",
   "metadata": {},
   "source": [
    "## **MODELE AVEC TOUTES LES VARIABLES :**"
   ]
  },
  {
   "cell_type": "code",
   "execution_count": 323,
   "metadata": {},
   "outputs": [
    {
     "name": "stdout",
     "output_type": "stream",
     "text": [
      "[LightGBM] [Warning] Categorical features with more bins than the configured maximum bin number found.\n",
      "[LightGBM] [Warning] For categorical features, max_bin and max_bin_by_feature may be ignored with a large number of categories.\n",
      "[LightGBM] [Info] Number of positive: 162801, number of negative: 237550\n",
      "[LightGBM] [Info] Auto-choosing row-wise multi-threading, the overhead of testing was 0.085166 seconds.\n",
      "You can set `force_row_wise=true` to remove the overhead.\n",
      "And if memory is not enough, you can set `force_col_wise=true`.\n",
      "[LightGBM] [Info] Total Bins 8157\n",
      "[LightGBM] [Info] Number of data points in the train set: 400351, number of used features: 165\n",
      "[LightGBM] [Info] [binary:BoostFromScore]: pavg=0.406646 -> initscore=-0.377850\n",
      "[LightGBM] [Info] Start training from score -0.377850\n",
      "AUC LightGBM: 0.8553542717847727\n"
     ]
    },
    {
     "data": {
      "image/png": "[encoded data removed]",
      "text/plain": [
       "<Figure size 1000x600 with 1 Axes>"
      ]
     },
     "metadata": {},
     "output_type": "display_data"
    },
    {
     "data": {
      "image/png": "[encoded data removed]",
      "text/plain": [
       "<Figure size 1000x600 with 1 Axes>"
      ]
     },
     "metadata": {},
     "output_type": "display_data"
    },
    {
     "data": {
      "image/png": "[encoded data removed]",
      "text/plain": [
       "<Figure size 1000x600 with 1 Axes>"
      ]
     },
     "metadata": {},
     "output_type": "display_data"
    }
   ],
   "source": [
    "feature_imp_df,model = training_model(lgb_model,X,y)"
   ]
  },
  {
   "cell_type": "markdown",
   "metadata": {},
   "source": [
    "# **PREDICTIONS :**"
   ]
  },
  {
   "cell_type": "code",
   "execution_count": 324,
   "metadata": {},
   "outputs": [
    {
     "name": "stderr",
     "output_type": "stream",
     "text": [
      "C:\\Users\\lucie\\AppData\\Local\\Temp\\ipykernel_16036\\407183986.py:1: DtypeWarning: Columns (4,10,13,14,15) have mixed types. Specify dtype option on import or set low_memory=False.\n",
      "  caracteristics_test = pd.read_csv('TEST/CARACTERISTIQUES.csv',delimiter = ',')\n"
     ]
    }
   ],
   "source": [
    "caracteristics_test = pd.read_csv('TEST/CARACTERISTIQUES.csv',delimiter = ',')"
   ]
  },
  {
   "cell_type": "code",
   "execution_count": 325,
   "metadata": {},
   "outputs": [
    {
     "name": "stderr",
     "output_type": "stream",
     "text": [
      "C:\\Users\\lucie\\AppData\\Local\\Temp\\ipykernel_16036\\1547193871.py:1: DtypeWarning: Columns (7) have mixed types. Specify dtype option on import or set low_memory=False.\n",
      "  users_test = pd.read_csv('TEST/USAGERS.csv',delimiter = ',')\n"
     ]
    }
   ],
   "source": [
    "users_test = pd.read_csv('TEST/USAGERS.csv',delimiter = ',')"
   ]
  },
  {
   "cell_type": "code",
   "execution_count": 326,
   "metadata": {},
   "outputs": [
    {
     "name": "stderr",
     "output_type": "stream",
     "text": [
      "C:\\Users\\lucie\\AppData\\Local\\Temp\\ipykernel_16036\\1313023364.py:1: DtypeWarning: Columns (9) have mixed types. Specify dtype option on import or set low_memory=False.\n",
      "  vehicles_test = pd.read_csv('TEST/VEHICULES.csv',delimiter = ',')\n"
     ]
    }
   ],
   "source": [
    "vehicles_test = pd.read_csv('TEST/VEHICULES.csv',delimiter = ',')"
   ]
  },
  {
   "cell_type": "code",
   "execution_count": 327,
   "metadata": {},
   "outputs": [
    {
     "name": "stderr",
     "output_type": "stream",
     "text": [
      "C:\\Users\\lucie\\AppData\\Local\\Temp\\ipykernel_16036\\2949266519.py:1: DtypeWarning: Columns (7,8,12,13) have mixed types. Specify dtype option on import or set low_memory=False.\n",
      "  localisation_test = pd.read_csv('TEST/LIEUX.csv',delimiter = ',')\n"
     ]
    }
   ],
   "source": [
    "localisation_test = pd.read_csv('TEST/LIEUX.csv',delimiter = ',')"
   ]
  },
  {
   "cell_type": "code",
   "execution_count": 328,
   "metadata": {},
   "outputs": [
    {
     "name": "stderr",
     "output_type": "stream",
     "text": [
      "C:\\Users\\lucie\\AppData\\Local\\Temp\\ipykernel_16036\\2146645702.py:7: FutureWarning: A value is trying to be set on a copy of a DataFrame or Series through chained assignment using an inplace method.\n",
      "The behavior will change in pandas 3.0. This inplace method will never work because the intermediate object on which we are setting values always behaves as a copy.\n",
      "\n",
      "For example, when doing 'df[col].method(value, inplace=True)', try using 'df.method({col: value}, inplace=True)' or df[col] = df[col].method(value) instead, to perform the operation inplace on the original object.\n",
      "\n",
      "\n",
      "  df['an_nais'].fillna(median_an_nais, inplace=True)\n"
     ]
    }
   ],
   "source": [
    "users_test = feature_engineering_users(users_test)\n",
    "\n",
    "vehicles_test = feature_engineering_vehicles(vehicles_test)\n",
    "\n",
    "caracteristics_test = feature_engineering_caracteristics(caracteristics_test)\n",
    "\n",
    "localisation_test = feature_engineering_localisation(localisation_test)"
   ]
  },
  {
   "cell_type": "code",
   "execution_count": 329,
   "metadata": {},
   "outputs": [],
   "source": [
    "df = users_test.merge(vehicles_test,on = 'Num_Acc',how  = 'left')\n",
    "df = caracteristics_test.merge(df,on = 'Num_Acc',how  = 'left')\n",
    "df = localisation_test.merge(df,on = 'Num_Acc',how  = 'left')"
   ]
  },
  {
   "cell_type": "code",
   "execution_count": 330,
   "metadata": {},
   "outputs": [],
   "source": [
    "df = df[list_features]"
   ]
  },
  {
   "cell_type": "code",
   "execution_count": 331,
   "metadata": {},
   "outputs": [
    {
     "data": {
      "text/plain": [
       "190"
      ]
     },
     "execution_count": 331,
     "metadata": {},
     "output_type": "execute_result"
    }
   ],
   "source": [
    "len(list_features)"
   ]
  },
  {
   "cell_type": "code",
   "execution_count": 332,
   "metadata": {},
   "outputs": [
    {
     "name": "stdout",
     "output_type": "stream",
     "text": [
      "Missing columns in df: []\n",
      "Extra columns in df: []\n"
     ]
    }
   ],
   "source": [
    "# Check if each element in list_features is a column in df\n",
    "missing_columns = [col for col in list_features if col not in df.columns]\n",
    "extra_columns = [col for col in df.columns if col not in list_features]\n",
    "\n",
    "print(\"Missing columns in df:\", missing_columns)\n",
    "print(\"Extra columns in df:\", extra_columns)"
   ]
  },
  {
   "cell_type": "code",
   "execution_count": 333,
   "metadata": {},
   "outputs": [
    {
     "name": "stdout",
     "output_type": "stream",
     "text": [
      "Duplicated columns and their number of occurrences:\n"
     ]
    }
   ],
   "source": [
    "# Assuming df is your DataFrame\n",
    "column_names = df.columns\n",
    "\n",
    "# Use collections.Counter to count the occurrences of each column name\n",
    "from collections import Counter\n",
    "column_count = Counter(column_names)\n",
    "\n",
    "# Filter to find duplicated columns\n",
    "duplicates = {item: count for item, count in column_count.items() if count > 1}\n",
    "\n",
    "print(\"Duplicated columns and their number of occurrences:\")\n",
    "for column, count in duplicates.items():\n",
    "    print(f\"{column}: {count}\")"
   ]
  },
  {
   "cell_type": "code",
   "execution_count": 334,
   "metadata": {},
   "outputs": [],
   "source": [
    "X = df.drop('Num_Acc',axis = 1)"
   ]
  },
  {
   "cell_type": "code",
   "execution_count": 335,
   "metadata": {},
   "outputs": [],
   "source": [
    "y_pred_new = model.predict(X)\n",
    "probabilities_new = model.predict_proba(X)[:, 1] "
   ]
  },
  {
   "cell_type": "code",
   "execution_count": 336,
   "metadata": {},
   "outputs": [],
   "source": [
    "results = pd.DataFrame({\n",
    "    'Num_Acc': df['Num_Acc'],\n",
    "    'GRAVE': probabilities_new\n",
    "})"
   ]
  },
  {
   "cell_type": "code",
   "execution_count": 337,
   "metadata": {},
   "outputs": [],
   "source": [
    "results.to_csv('LIGHTGBM_ALLFEATURES.csv',sep = ',', index = False)"
   ]
  }
 ],
 "metadata": {
  "kernelspec": {
   "display_name": "base",
   "language": "python",
   "name": "python3"
  },
  "language_info": {
   "codemirror_mode": {
    "name": "ipython",
    "version": 3
   },
   "file_extension": ".py",
   "mimetype": "text/x-python",
   "name": "python",
   "nbconvert_exporter": "python",
   "pygments_lexer": "ipython3",
   "version": "3.12.4"
  }
 },
 "nbformat": 4,
 "nbformat_minor": 2
}
