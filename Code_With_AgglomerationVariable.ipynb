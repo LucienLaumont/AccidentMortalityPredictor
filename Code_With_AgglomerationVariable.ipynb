{
 "cells": [
  {
   "cell_type": "code",
   "execution_count": null,
   "metadata": {},
   "outputs": [],
   "source": []
  },
  {
   "cell_type": "markdown",
   "metadata": {},
   "source": [
    "# **PROJECT ACCIDENTOLOGIE : KAGGLE ESIEE 2023 - 2024**"
   ]
  },
  {
   "cell_type": "code",
   "execution_count": null,
   "metadata": {},
   "outputs": [],
   "source": []
  },
  {
   "cell_type": "code",
   "execution_count": 1,
   "metadata": {},
   "outputs": [],
   "source": [
    "import pandas as pd\n",
    "import numpy as np\n",
    "import matplotlib.pyplot as plt\n",
    "\n",
    "from sklearn.model_selection import train_test_split\n",
    "import lightgbm as lgb\n",
    "from sklearn.metrics import roc_auc_score"
   ]
  },
  {
   "cell_type": "code",
   "execution_count": 2,
   "metadata": {},
   "outputs": [],
   "source": [
    "pd.set_option('display.max_columns', None)"
   ]
  },
  {
   "cell_type": "markdown",
   "metadata": {},
   "source": [
    "# **OPENING FILES**"
   ]
  },
  {
   "cell_type": "code",
   "execution_count": 3,
   "metadata": {},
   "outputs": [],
   "source": [
    "def open_file(item):\n",
    "    # Création d'un DataFrame vide pour accumuler les données\n",
    "    all_data = pd.DataFrame()\n",
    "\n",
    "    # Boucle sur chaque année\n",
    "    for annee in range(2012, 2023):\n",
    "        path = f\"TRAIN/BAAC-Annee-{annee}/{item}_{annee}_.csv\"\n",
    "        try:\n",
    "            # Lecture du fichier CSV\n",
    "            file = pd.read_csv(path, delimiter=';', index_col = 0,low_memory=False)\n",
    "            # Concaténation du fichier lu avec le DataFrame global\n",
    "            all_data = pd.concat([all_data, file])\n",
    "        except FileNotFoundError:\n",
    "            print(f\"Le fichier {path} n'a pas été trouvé.\")\n",
    "        except Exception as e:\n",
    "            print(f\"Erreur lors de la lecture du fichier {path}: {e}\")\n",
    "\n",
    "    return all_data"
   ]
  },
  {
   "cell_type": "code",
   "execution_count": 4,
   "metadata": {},
   "outputs": [],
   "source": [
    "def create_dataframe():\n",
    "\n",
    "    caracteristiques = open_file('caracteristiques')\n",
    "    lieux = open_file('lieux')\n",
    "    usagers = open_file('usagers')\n",
    "    vehicules = open_file('vehicules')\n",
    "\n",
    "    return caracteristiques,lieux,usagers,vehicules"
   ]
  },
  {
   "cell_type": "code",
   "execution_count": 5,
   "metadata": {},
   "outputs": [],
   "source": [
    "caracteristiques,lieux,usagers,vehicules = create_dataframe()"
   ]
  },
  {
   "cell_type": "markdown",
   "metadata": {},
   "source": [
    "### **Isolation de la colonne Grave**"
   ]
  },
  {
   "cell_type": "code",
   "execution_count": 6,
   "metadata": {},
   "outputs": [],
   "source": [
    "# Convertir la colonne 'grav' en array numpy\n",
    "grav_array = usagers['grav'].values\n",
    "num_acc_array = usagers['Num_Acc'].values\n",
    "\n",
    "# Créer un array pour la présence de 'GRAVE'\n",
    "is_grave = np.isin(grav_array, [2, 3])\n",
    "\n",
    "# Utiliser ufuncs de numpy pour créer un mapping de 'Num_Acc' à 'GRAVE'\n",
    "unique_nums, grave_presence = np.unique(num_acc_array, return_inverse=True)\n",
    "result = np.bitwise_or.reduceat(is_grave, np.r_[0, np.where(np.diff(num_acc_array))[0]+1])"
   ]
  },
  {
   "cell_type": "code",
   "execution_count": 7,
   "metadata": {},
   "outputs": [],
   "source": [
    "usagers.drop('grav',axis = 1,inplace = True)"
   ]
  },
  {
   "cell_type": "code",
   "execution_count": 8,
   "metadata": {},
   "outputs": [],
   "source": [
    "# Création du DataFrame\n",
    "df_grave = pd.DataFrame({\n",
    "    'Num_Acc': unique_nums,\n",
    "    'GRAVE': result\n",
    "})\n",
    "\n",
    "df_grave['GRAVE'] = df_grave['GRAVE'].astype(int)"
   ]
  },
  {
   "cell_type": "markdown",
   "metadata": {},
   "source": [
    "### **Merge GRAVE + Dataframe :** "
   ]
  },
  {
   "cell_type": "code",
   "execution_count": 9,
   "metadata": {},
   "outputs": [],
   "source": [
    "def merge_grave(df):\n",
    "\n",
    "    return df_grave.merge(df,on = \"Num_Acc\",how = 'left')"
   ]
  },
  {
   "cell_type": "markdown",
   "metadata": {},
   "source": [
    "### **Fonction Analyse :**"
   ]
  },
  {
   "cell_type": "code",
   "execution_count": 10,
   "metadata": {},
   "outputs": [],
   "source": [
    "def summary_info(df):\n",
    "\n",
    "    # Créer un nouveau DataFrame avec ces comptages\n",
    "    return  pd.DataFrame({\n",
    "        'NaN_Count': df.isna().sum().astype(int),\n",
    "        'Nan_ratio': df.isna().mean().astype(float),\n",
    "        '-1_Count': df.eq(-1).sum().astype(int),\n",
    "        '0_Count': df.eq(0).sum().astype(int)\n",
    "    })"
   ]
  },
  {
   "cell_type": "markdown",
   "metadata": {},
   "source": [
    "### **Fonction Aggregation :**"
   ]
  },
  {
   "cell_type": "code",
   "execution_count": 11,
   "metadata": {},
   "outputs": [],
   "source": [
    "def column_aggreg(df,column):\n",
    "\n",
    "    # One-hot encoding sur la colonne \"trajet\"\n",
    "    one_hot_trajet = pd.get_dummies(df[column], prefix= column)\n",
    "\n",
    "    # Ajouter la colonne Num_Acc pour pouvoir fusionner les résultats plus tard\n",
    "    one_hot_trajet['Num_Acc'] = df['Num_Acc']\n",
    "\n",
    "    # Aggrégation des résultats pour chaque accident\n",
    "    one_hot_trajet_grouped = one_hot_trajet.groupby('Num_Acc').sum().reset_index()\n",
    "\n",
    "    # Fusionner ces résultats avec ton DataFrame initial\n",
    "    df = pd.merge(df, one_hot_trajet_grouped, on='Num_Acc', how='left')\n",
    "\n",
    "    return df"
   ]
  },
  {
   "cell_type": "markdown",
   "metadata": {},
   "source": [
    "# **USAGERS :**"
   ]
  },
  {
   "cell_type": "markdown",
   "metadata": {},
   "source": [
    "## **PREPROCESSING :**"
   ]
  },
  {
   "cell_type": "code",
   "execution_count": 12,
   "metadata": {},
   "outputs": [],
   "source": [
    "def usagers_del_(df):\n",
    "\n",
    "    col_to_drop = ['id_vehicule','id_usager','secu2','secu3','actp']\n",
    "    df = df.drop(col_to_drop,axis = 1)\n",
    "\n",
    "    return df"
   ]
  },
  {
   "cell_type": "code",
   "execution_count": 13,
   "metadata": {},
   "outputs": [],
   "source": [
    "def usagers_NaN_(df):\n",
    "\n",
    "    col_to_replace = ['place','trajet']\n",
    "\n",
    "    df[col_to_replace] = df[col_to_replace].replace(np.nan,-1)\n",
    "    \n",
    "    return df"
   ]
  },
  {
   "cell_type": "code",
   "execution_count": 14,
   "metadata": {},
   "outputs": [],
   "source": [
    "def usagers_correction_(df):\n",
    "\n",
    "    df['locp'] = df['locp'].replace(9,-1)\n",
    "    df['trajet'] = df['trajet'].replace(0,-1)\n",
    "\n",
    "    # Calcul de la médiane en excluant les NaN\n",
    "    median_an_nais = df['an_nais'].median()\n",
    "\n",
    "    # Remplacement des NaN par la médiane dans la colonne 'an_nais'\n",
    "    df['an_nais'].fillna(median_an_nais, inplace=True)\n",
    "\n",
    "    return df"
   ]
  },
  {
   "cell_type": "code",
   "execution_count": 15,
   "metadata": {},
   "outputs": [],
   "source": [
    "def pieton_correction_(df):\n",
    "\n",
    "     # Remplacement conditionnel des valeurs\n",
    "    condition_3 = (df['catu'] == 3) & df['locp'].isna() & df['etatp'].isna()\n",
    "\n",
    "    # Condition pour catu != 3 et toutes les valeurs pertinentes sont NaN\n",
    "    condition_not_3 = (df['catu'] != 3) & df['locp'].isna() & df['etatp'].isna()\n",
    "\n",
    "    # Appliquer les conditions pour les trois colonnes\n",
    "    df.loc[condition_3, ['locp', 'etatp']] = -1\n",
    "    df.loc[condition_not_3, ['locp', 'etatp']] = 0\n",
    "\n",
    "    col_to_replace = ['locp','etatp']\n",
    "\n",
    "    df[col_to_replace] = df[col_to_replace].replace(np.nan,-1)\n",
    "\n",
    "    return df"
   ]
  },
  {
   "cell_type": "code",
   "execution_count": 16,
   "metadata": {},
   "outputs": [],
   "source": [
    "def adjust_secu(value):\n",
    "    if value in [1, 2, 3, 4, 9]:\n",
    "        return -1\n",
    "    elif value >= 10:\n",
    "        tens = int(value // 10)\n",
    "        units = int(value % 10)\n",
    "        if units == 1:\n",
    "            return tens\n",
    "        elif units == 3:\n",
    "            return 3\n",
    "        elif units == 2:\n",
    "            return 0\n",
    "        else:\n",
    "            return value  # Si aucune des autres conditions n'est rencontrée, renvoyer la valeur originale\n",
    "    else:\n",
    "        return value  # Pour les cas négatifs et autres cas non définis\n",
    "\n",
    "def merge_columns(df):\n",
    "    \n",
    "    df['secu'] = df['secu'].fillna(df['secu1'])\n",
    "    df['secu'] = df['secu'].replace([9,4,6,5,7],0)\n",
    "    df['secu'] = df['secu'].fillna(-1)\n",
    "    df.drop(['secu1'],axis = 1,inplace= True)\n",
    "    \n",
    "    return df"
   ]
  },
  {
   "cell_type": "code",
   "execution_count": 17,
   "metadata": {},
   "outputs": [],
   "source": [
    "def usagers_preprocessing_(df):\n",
    "\n",
    "    df = usagers_del_(df)\n",
    "    df = usagers_NaN_(df)\n",
    "    df = pieton_correction_(df)\n",
    "    df = usagers_correction_(df)\n",
    "\n",
    "    df['secu'] = df['secu'].apply(adjust_secu)\n",
    "    df = merge_columns(df)\n",
    "\n",
    "    cols_to_convert_category = ['place','catu','sexe','trajet','secu','locp','etatp','num_veh']\n",
    "\n",
    "    df[cols_to_convert_category] = df[cols_to_convert_category].astype('category')\n",
    "\n",
    "    return df"
   ]
  },
  {
   "cell_type": "markdown",
   "metadata": {},
   "source": [
    "## **FEATURE ENGINEERING :**"
   ]
  },
  {
   "cell_type": "code",
   "execution_count": 18,
   "metadata": {},
   "outputs": [],
   "source": [
    "def create_age(df):\n",
    "\n",
    "    # Calcul de la médiane pour la colonne 'an_nais' en ignorant les valeurs NaN\n",
    "    median_an_nais = df['an_nais'].median()\n",
    "\n",
    "    # Remplacement des NaN par la médiane dans la colonne 'an_nais'\n",
    "    df['an_nais'].fillna(median_an_nais, inplace=True)\n",
    "\n",
    "    \n",
    "    df['an_nais'] = df['an_nais'].astype(int)\n",
    "    df['age'] = df['Num_Acc'].astype(str).str[:4].astype(int) - df['an_nais']\n",
    "\n",
    "    df['age'] = df['age'].astype(int)\n",
    "    \n",
    "    return df"
   ]
  },
  {
   "cell_type": "code",
   "execution_count": 19,
   "metadata": {},
   "outputs": [],
   "source": [
    "def create_catu(df):\n",
    "\n",
    "    df['total_usagers'] = df.groupby('Num_Acc')['Num_Acc'].transform('count')\n",
    "    \n",
    "    df['nb_conducteurs'] = df['catu'].eq(1).groupby(df['Num_Acc']).transform('sum').astype(int)\n",
    "    df['nb_passagers'] = df['catu'].eq(2).groupby(df['Num_Acc']).transform('sum').astype(int)\n",
    "\n",
    "    df['ratio_conducteurs'] = df['nb_conducteurs'] / df['total_usagers']\n",
    "    df['ratio_passagers'] = df['nb_passagers'] / df['total_usagers']\n",
    "    \n",
    "    return df"
   ]
  },
  {
   "cell_type": "code",
   "execution_count": 20,
   "metadata": {},
   "outputs": [],
   "source": [
    "def secu_catu(df):\n",
    "\n",
    "    # 1. Groupby sur la colonne \"Num_Acc\" et compter les conducteurs avec ceinture\n",
    "    nombre_conducteur_avec_ceinture = df[df['secu'] == 1 & (df['catu'] == 1)].groupby('Num_Acc').size().reset_index(name='nombre_conducteur_avec_ceinture')\n",
    "\n",
    "    # 2. Fusionner les résultats avec ton DataFrame initial\n",
    "    df = pd.merge(df, nombre_conducteur_avec_ceinture, on='Num_Acc', how='left')\n",
    "\n",
    "    # 1. Groupby sur la colonne \"Num_Acc\" et compter les conducteurs avec ceinture\n",
    "    nombre_passager_avec_ceinture = df[df['secu'] == 1 & (df['catu'] == 2)].groupby('Num_Acc').size().reset_index(name='nombre_passagers_avec_ceinture')\n",
    "\n",
    "    # 2. Fusionner les résultats avec ton DataFrame initial\n",
    "    df = pd.merge(df, nombre_passager_avec_ceinture, on='Num_Acc', how='left')\n",
    "\n",
    "    df[['nombre_conducteur_avec_ceinture','nombre_passagers_avec_ceinture']] = df[['nombre_conducteur_avec_ceinture','nombre_passagers_avec_ceinture']].fillna(0)\n",
    "\n",
    "    return df"
   ]
  },
  {
   "cell_type": "code",
   "execution_count": 21,
   "metadata": {},
   "outputs": [],
   "source": [
    "def count_sexe(df):\n",
    "    # Grouper par 'Num_Acc' et compter les occurrences de chaque sexe\n",
    "    count_sexe = df.groupby('Num_Acc')['sexe'].value_counts().unstack(fill_value=0)\n",
    "\n",
    "    # Renommer les colonnes pour plus de clarté\n",
    "    count_sexe.columns = ['nb_hommes', 'nb_femmes','nb_inconnue']\n",
    "\n",
    "    # Rejoindre avec le DataFrame original\n",
    "    return df.merge(count_sexe, left_on='Num_Acc', right_index=True)"
   ]
  },
  {
   "cell_type": "code",
   "execution_count": 22,
   "metadata": {},
   "outputs": [],
   "source": [
    "def age_annais(df):\n",
    "\n",
    "    # Groupby Num_Acc et calcul des moyennes\n",
    "    grouped = df.groupby('Num_Acc')\n",
    "    mean_age = grouped['age'].mean()\n",
    "    mean_an_nais = grouped['an_nais'].mean()\n",
    "\n",
    "    # Création de nouvelles colonnes dans le DataFrame original pour les moyennes\n",
    "    df['age'] = df['Num_Acc'].map(mean_age)\n",
    "    df['an_nais'] = df['Num_Acc'].map(mean_an_nais)\n",
    "    \n",
    "    return df"
   ]
  },
  {
   "cell_type": "code",
   "execution_count": 23,
   "metadata": {},
   "outputs": [],
   "source": [
    "def feature_engineering_usagers(df):\n",
    "\n",
    "    df = usagers_preprocessing_(df)\n",
    "\n",
    "    df = create_age(df)\n",
    "    df = create_catu(df)\n",
    "    df = secu_catu(df)\n",
    "    df = count_sexe(df)\n",
    "    #df = column_aggreg(df,'secu')\n",
    "    #df = column_aggreg(df,'trajet')\n",
    "    #df = column_aggreg(df,'place')\n",
    "    #df = column_aggreg(df,'locp')\n",
    "    #df = column_aggreg(df,'etatp')\n",
    "    \n",
    "    #df = age_annais(df)\n",
    "\n",
    "    col_to_drop = ['secu','trajet','place','sexe','locp','etatp','num_veh','catu','nb_inconnue']\n",
    "\n",
    "    df[col_to_drop] = df[col_to_drop].astype('category')\n",
    "\n",
    "    #df = df.drop(col_to_drop,axis = 1)\n",
    "\n",
    "    #df = df.drop_duplicates(subset='Num_Acc', keep='first')\n",
    "    \n",
    "    return df"
   ]
  },
  {
   "cell_type": "markdown",
   "metadata": {},
   "source": [
    "# **VEHICULES :**"
   ]
  },
  {
   "cell_type": "markdown",
   "metadata": {},
   "source": [
    "## **PREPROCESSING :**"
   ]
  },
  {
   "cell_type": "code",
   "execution_count": 24,
   "metadata": {},
   "outputs": [],
   "source": [
    "def vehicules_del_(df):\n",
    "\n",
    "    col_to_drop = ['id_vehicule','occutc']\n",
    "    df = df.drop(col_to_drop,axis = 1)\n",
    "\n",
    "    return df"
   ]
  },
  {
   "cell_type": "code",
   "execution_count": 25,
   "metadata": {},
   "outputs": [],
   "source": [
    "def vehicules_NaN_(df):\n",
    "\n",
    "    col_to_replace = ['senc','catv','obs','obsm','choc','manv','motor']\n",
    "\n",
    "    df[col_to_replace] = df[col_to_replace].replace(np.nan,-1)\n",
    "    \n",
    "    return df"
   ]
  },
  {
   "cell_type": "code",
   "execution_count": 26,
   "metadata": {},
   "outputs": [],
   "source": [
    "def vehicules_correction_(df):\n",
    "\n",
    "    cols_to_replace = ['senc','catv','choc','manv','motor']\n",
    "    df[cols_to_replace] = df[cols_to_replace].replace(0,-1)\n",
    "\n",
    "    return df"
   ]
  },
  {
   "cell_type": "code",
   "execution_count": 27,
   "metadata": {},
   "outputs": [],
   "source": [
    "def vehicules_preprocessing_(df):\n",
    "\n",
    "    df = vehicules_del_(df)\n",
    "    df = vehicules_NaN_(df)\n",
    "    df = vehicules_correction_(df)\n",
    "\n",
    "    cols_to_convert = ['senc','catv','obs','obsm','choc','manv','motor']\n",
    "    df[cols_to_convert] = df[cols_to_convert].astype('category')\n",
    "\n",
    "    return df"
   ]
  },
  {
   "cell_type": "markdown",
   "metadata": {},
   "source": [
    "## **FEATURE ENGINEERING :**"
   ]
  },
  {
   "cell_type": "code",
   "execution_count": 28,
   "metadata": {},
   "outputs": [],
   "source": [
    "def catv_category(df):\n",
    "\n",
    "    set_moto = {1, 2, 3, 4, 5, 6, 30, 31, 32, 33, 34}\n",
    "\n",
    "    set_vl = {7, 8, 9, 10, 11, 12}\n",
    "\n",
    "    set_pl = {13, 14, 15}\n",
    "\n",
    "    set_edp = {50, 50, 80}\n",
    "\n",
    "    def check_moto_vl(catv_set):\n",
    "        return 1 if (set_moto.intersection(catv_set) and set_vl.intersection(catv_set)) else 0\n",
    "    \n",
    "    def check_pl_vl(catv_set):\n",
    "        return 1 if (set_pl.intersection(catv_set) and set_vl.intersection(catv_set)) else 0\n",
    "    \n",
    "    def check_pl_moto(catv_set):\n",
    "        return 1 if (set_moto.intersection(catv_set) and set_pl.intersection(catv_set)) else 0\n",
    "    \n",
    "    # Grouper par 'Num_Acc' et appliquer set() sur 'catv'\n",
    "    grouped = df.groupby('Num_Acc')['catv'].apply(set)\n",
    "\n",
    "    # Créer une colonne 'Accident_Voiture' initialisée à 0\n",
    "    df['Accident_Moto_Voiture'] = 0\n",
    "    df['Accident_Moto_Camion'] = 0\n",
    "    df['Accident_Voiture_Camion'] = 0\n",
    "\n",
    "    df['Accident_Moto_Camion'] = df['Num_Acc'].map(grouped.apply(check_pl_moto))\n",
    "    df['Accident_Voiture_Camion'] = df['Num_Acc'].map(grouped.apply(check_pl_vl))\n",
    "    df['Accident_Moto_Voiture'] = df['Num_Acc'].map(grouped.apply(check_moto_vl))\n",
    "    \n",
    "    return df"
   ]
  },
  {
   "cell_type": "code",
   "execution_count": 29,
   "metadata": {},
   "outputs": [],
   "source": [
    "def manv_catv(df):\n",
    "    \n",
    "    set_moto = {1, 2, 3, 4, 5, 6, 30, 31, 32, 33, 34}\n",
    "\n",
    "    # Création des colonnes indiquant les accidents spécifiques\n",
    "    df['Accident_Moto_Gauche'] = ((df['manv'] == 17) & df['catv'].isin(set_moto)).astype(int)\n",
    "\n",
    "    return df"
   ]
  },
  {
   "cell_type": "code",
   "execution_count": 30,
   "metadata": {},
   "outputs": [],
   "source": [
    "def obsm_pieton(df):\n",
    "    set_vl_pieton = {7, 8, 9, 10, 11, 12}\n",
    "    set_pl_pieton = {13, 14, 15, 37, 38, 39, 40}\n",
    "    set_vl = {1, 2, 3, 4, 5, 6, 30, 31, 32, 33, 34}\n",
    "\n",
    "    # Conditions pour chaque type de collision\n",
    "    df['Colision_Voiture_Pieton'] = ((df['catv'].isin(set_vl_pieton)) & (df['obsm'] == 1)).astype(int)\n",
    "    df['Colision_PL_Pieton'] = ((df['catv'].isin(set_pl_pieton)) & (df['obsm'] == 1)).astype(int)\n",
    "    df['Colision_VL_Pieton'] = ((df['catv'].isin(set_vl)) & (df['obsm'] == 1)).astype(int)\n",
    "\n",
    "    df['Colision_Voiture_Pieton'] = df.groupby('Num_Acc')['Colision_Voiture_Pieton'].transform('max')\n",
    "    df['Colision_PL_Pieton'] = df.groupby('Num_Acc')['Colision_PL_Pieton'].transform('max')\n",
    "    df['Colision_VL_Pieton'] = df.groupby('Num_Acc')['Colision_VL_Pieton'].transform('max')\n",
    "\n",
    "    return df"
   ]
  },
  {
   "cell_type": "code",
   "execution_count": 31,
   "metadata": {},
   "outputs": [],
   "source": [
    "def collison_frontale(df):\n",
    "\n",
    "    def collision_frontale_verif(choc_set):\n",
    "        target_set = {1, 2, 3}\n",
    "        # Trouver l'intersection du set de choc et du set cible\n",
    "        intersection = choc_set.intersection(target_set)\n",
    "        # Retourner 1 si au moins deux éléments distincts sont trouvés\n",
    "        return 1 if len(intersection) >= 2 else 0\n",
    "\n",
    "\n",
    "    grouped_choc = df.groupby('Num_Acc')['choc'].apply(set)\n",
    "\n",
    "    df['Collision_Frontale'] = df['Num_Acc'].map(grouped_choc.apply(collision_frontale_verif))\n",
    "\n",
    "    return df"
   ]
  },
  {
   "cell_type": "code",
   "execution_count": 32,
   "metadata": {},
   "outputs": [],
   "source": [
    "def feature_engineering_vehicules(df):\n",
    "\n",
    "    df = vehicules_preprocessing_(df)\n",
    "    df = catv_category(df)\n",
    "    df = manv_catv(df)\n",
    "    df = obsm_pieton(df)\n",
    "    df = collison_frontale(df)\n",
    "\n",
    "    #df = column_aggreg(df,'manv')\n",
    "    #df = column_aggreg(df,'obs')\n",
    "    #df = column_aggreg(df,'obsm')\n",
    "    #df = column_aggreg(df,'catv')\n",
    "    #df = column_aggreg(df,'choc')\n",
    "    #df = column_aggreg(df,'motor')\n",
    "\n",
    "    col_to_drop = ['manv','obs','obsm','catv','choc','motor','num_veh']\n",
    "\n",
    "    df[col_to_drop] = df[col_to_drop].astype('category')\n",
    "    \n",
    "    #df = df.drop(col_to_drop,axis = 1)\n",
    "\n",
    "    #df = df.drop_duplicates(subset='Num_Acc', keep='first')\n",
    "    \n",
    "    return df"
   ]
  },
  {
   "cell_type": "markdown",
   "metadata": {},
   "source": [
    "# **CARACTERISTIQUES :**"
   ]
  },
  {
   "cell_type": "markdown",
   "metadata": {},
   "source": [
    "## **PREPROCESSING :**"
   ]
  },
  {
   "cell_type": "code",
   "execution_count": 33,
   "metadata": {},
   "outputs": [],
   "source": [
    "def caracteristiques_del_(df):\n",
    "\n",
    "    col_to_drop = ['adr','lat','long']\n",
    "    df = df.drop(col_to_drop,axis = 1)\n",
    "\n",
    "    return df"
   ]
  },
  {
   "cell_type": "code",
   "execution_count": 34,
   "metadata": {},
   "outputs": [],
   "source": [
    "def caracteristiques_NaN_(df):\n",
    "\n",
    "    col_to_replace = ['atm','col','gps']\n",
    "\n",
    "    df[col_to_replace] = df[col_to_replace].replace(np.nan,-1)\n",
    "    \n",
    "    return df"
   ]
  },
  {
   "cell_type": "code",
   "execution_count": 35,
   "metadata": {},
   "outputs": [],
   "source": [
    "def caracteristiques_correction_(df):\n",
    "\n",
    "    df['int'] = df['int'].replace(0,-1)\n",
    "\n",
    "    return df"
   ]
  },
  {
   "cell_type": "code",
   "execution_count": 36,
   "metadata": {},
   "outputs": [],
   "source": [
    "def adjust_year(year):\n",
    "    if year < 100:  # Supposons que toute valeur < 100 représente les deux derniers chiffres de l'année\n",
    "        return 2000 + year\n",
    "    else:\n",
    "        return year"
   ]
  },
  {
   "cell_type": "code",
   "execution_count": 37,
   "metadata": {},
   "outputs": [],
   "source": [
    "def convert_time_to_minutes(time_str):\n",
    "    # S'assurer que toutes les entrées sont des chaînes de caractères\n",
    "    time_str = str(time_str)\n",
    "    \n",
    "    if ':' in time_str:  # Format HH:MM\n",
    "        hours, minutes = map(str, time_str.split(':'))\n",
    "        return int(hours + minutes)\n",
    "    else:  # Format en nombre entier représentant des minutes ou des horaires comme '1800' qui signifie 18:00\n",
    "        time_str = time_str.zfill(4)  # Assure que la chaîne a au moins 4 caractères (par ex. '533' devient '0533')\n",
    "        hours = str(time_str[:2])\n",
    "        minutes = str(time_str[2:])\n",
    "        return int(hours + minutes)\n",
    "    \n",
    "def processing_hrmn(df):\n",
    "\n",
    "    df['hrmn'] = df['hrmn'].apply(convert_time_to_minutes)\n",
    "    df['hrmn'] = df['hrmn'].apply(lambda x: round(x / 100) * 100)\n",
    "\n",
    "    return df"
   ]
  },
  {
   "cell_type": "code",
   "execution_count": 38,
   "metadata": {},
   "outputs": [],
   "source": [
    "def clean_dep(dep, an):\n",
    "    if an <= 2018 and dep not in [201, 202, 972, 973, 974, 976]:\n",
    "        return int(dep) // 10\n",
    "\n",
    "    return dep\n",
    "\n",
    "def preprocessing_dep(df):\n",
    "\n",
    "    df['dep'] = df['dep'].replace('2B',201)\n",
    "    df['dep'] = df['dep'].replace('2A',202)\n",
    "    df['dep'] = df.apply(lambda row: clean_dep(row['dep'], row['an']), axis=1)\n",
    "\n",
    "    return df"
   ]
  },
  {
   "cell_type": "code",
   "execution_count": 39,
   "metadata": {},
   "outputs": [],
   "source": [
    "def caracteristiques_preprocessing_(df):\n",
    "\n",
    "    df = caracteristiques_del_(df)\n",
    "    df = caracteristiques_NaN_(df)\n",
    "    df = caracteristiques_correction_(df)\n",
    "\n",
    "    df['an'] = df['an'].apply(adjust_year)\n",
    "    df = processing_hrmn(df)\n",
    "    df = preprocessing_dep(df)\n",
    "\n",
    "    category_columns = ['lum','agg','int','atm','col','dep']\n",
    "    df[['an','jour','mois','hrmn']] = df[['an','jour','mois','hrmn']].astype(int)\n",
    "    df[category_columns] = df[category_columns].astype(int)\n",
    "\n",
    "    category_columns.append('gps')\n",
    "    category_columns.append('com')\n",
    "\n",
    "    df[category_columns] = df[category_columns].astype('category')\n",
    "\n",
    "    return df"
   ]
  },
  {
   "cell_type": "markdown",
   "metadata": {},
   "source": [
    "## **FEATURE ENGINEERING :**"
   ]
  },
  {
   "cell_type": "code",
   "execution_count": 40,
   "metadata": {},
   "outputs": [],
   "source": [
    "def feature_engineering_caracteristiques(df):\n",
    "\n",
    "    df = caracteristiques_preprocessing_(df)\n",
    "    \n",
    "    return df"
   ]
  },
  {
   "cell_type": "markdown",
   "metadata": {},
   "source": [
    "# **LIEUX :**"
   ]
  },
  {
   "cell_type": "code",
   "execution_count": 41,
   "metadata": {},
   "outputs": [],
   "source": [
    "def lieux_del_(df):\n",
    "\n",
    "    col_to_drop = ['voie','lartpc']\n",
    "    df = df.drop(col_to_drop,axis = 1)\n",
    "\n",
    "    return df"
   ]
  },
  {
   "cell_type": "code",
   "execution_count": 42,
   "metadata": {},
   "outputs": [],
   "source": [
    "def lieux_NaN_(df):\n",
    "\n",
    "    col_to_replace = ['circ','vosp','prof','plan','larrout','surf','infra','situ','vma','env1','pr','pr1','v1','v2']\n",
    "\n",
    "    df[col_to_replace] = df[col_to_replace].replace(np.nan,-1)\n",
    "    \n",
    "    return df"
   ]
  },
  {
   "cell_type": "code",
   "execution_count": 43,
   "metadata": {},
   "outputs": [],
   "source": [
    "def lieux_correction_(df):\n",
    "\n",
    "    df['nbv'] = df['nbv'].replace(\"#ERREUR\",-1)\n",
    "    df['nbv'] = df['nbv'].replace(\" -1\",-1)\n",
    "    df['nbv'] = df['nbv'].fillna(-1)\n",
    "    df['nbv'] = df['nbv'].astype(int)\n",
    "\n",
    "    cols_to_replace = ['nbv']\n",
    "\n",
    "    cols_to_replace = ['surf']\n",
    "\n",
    "    df[cols_to_replace] = df[cols_to_replace].replace(0,-1)\n",
    "\n",
    "    return df"
   ]
  },
  {
   "cell_type": "code",
   "execution_count": 44,
   "metadata": {},
   "outputs": [],
   "source": [
    "def modif_larrout(df):\n",
    "\n",
    "    df['larrout'] = df['larrout'].astype(str)\n",
    "    df['larrout'] = df['larrout'].str.replace(',', '.').str.strip()\n",
    "    df['larrout'] = df['larrout'].str.replace(\" -1\", \"-1\")\n",
    "    df['larrout'] = df['larrout'].astype(float)\n",
    "    df['larrout'] = np.where(df['larrout'] > 1, np.ceil(df['larrout'] / 100), df['larrout'])\n",
    "    df['larrout'] = np.where(df['larrout'] > 2, 2, df['larrout'])\n",
    "    \n",
    "    return df"
   ]
  },
  {
   "cell_type": "code",
   "execution_count": 45,
   "metadata": {},
   "outputs": [],
   "source": [
    "def lieux_preprocessing_(df):\n",
    "\n",
    "    df = lieux_del_(df)\n",
    "    df = lieux_NaN_(df)\n",
    "    df = lieux_correction_(df)\n",
    "\n",
    "    df = modif_larrout(df)\n",
    "\n",
    "    column = ['catr','circ','vosp','prof','plan','surf','infra','situ','larrout']\n",
    "    df[column] = df[column].astype(int)\n",
    "\n",
    "    column = ['catr','circ','vosp','prof','plan','surf','infra','situ','env1','vma','pr','pr1','v1','v2']\n",
    "\n",
    "    df[column] = df[column].astype('category')\n",
    "\n",
    "    return df"
   ]
  },
  {
   "cell_type": "markdown",
   "metadata": {},
   "source": [
    "## **FEATURE ENGINEERING :**"
   ]
  },
  {
   "cell_type": "code",
   "execution_count": 46,
   "metadata": {},
   "outputs": [],
   "source": [
    "def feature_engineering_lieux(df):\n",
    "\n",
    "    df = lieux_preprocessing_(df)\n",
    "\n",
    "    return df"
   ]
  },
  {
   "cell_type": "markdown",
   "metadata": {},
   "source": [
    "# **TRAINING MODEL :**"
   ]
  },
  {
   "cell_type": "code",
   "execution_count": 47,
   "metadata": {},
   "outputs": [],
   "source": [
    "usagers = feature_engineering_usagers(usagers)"
   ]
  },
  {
   "cell_type": "code",
   "execution_count": 48,
   "metadata": {},
   "outputs": [],
   "source": [
    "vehicules = feature_engineering_vehicules(vehicules)"
   ]
  },
  {
   "cell_type": "code",
   "execution_count": 49,
   "metadata": {},
   "outputs": [],
   "source": [
    "caracteristiques = feature_engineering_caracteristiques(caracteristiques)"
   ]
  },
  {
   "cell_type": "code",
   "execution_count": 50,
   "metadata": {},
   "outputs": [],
   "source": [
    "lieux = feature_engineering_lieux(lieux)"
   ]
  },
  {
   "cell_type": "code",
   "execution_count": 51,
   "metadata": {},
   "outputs": [],
   "source": [
    "df = usagers.merge(vehicules,on = ['Num_Acc','num_veh'],how  = 'left')\n",
    "df['num_veh'] = df['num_veh'].astype(\"category\")\n",
    "df = caracteristiques.merge(df,on = 'Num_Acc',how  = 'left')\n",
    "df = lieux.merge(df,on = 'Num_Acc',how  = 'left')"
   ]
  },
  {
   "cell_type": "code",
   "execution_count": 52,
   "metadata": {},
   "outputs": [
    {
     "data": {
      "text/html": [
       "<div>\n",
       "<style scoped>\n",
       "    .dataframe tbody tr th:only-of-type {\n",
       "        vertical-align: middle;\n",
       "    }\n",
       "\n",
       "    .dataframe tbody tr th {\n",
       "        vertical-align: top;\n",
       "    }\n",
       "\n",
       "    .dataframe thead th {\n",
       "        text-align: right;\n",
       "    }\n",
       "</style>\n",
       "<table border=\"1\" class=\"dataframe\">\n",
       "  <thead>\n",
       "    <tr style=\"text-align: right;\">\n",
       "      <th></th>\n",
       "      <th>Num_Acc</th>\n",
       "      <th>catr</th>\n",
       "      <th>v1</th>\n",
       "      <th>v2</th>\n",
       "      <th>circ</th>\n",
       "      <th>nbv</th>\n",
       "      <th>pr</th>\n",
       "      <th>pr1</th>\n",
       "      <th>vosp</th>\n",
       "      <th>prof</th>\n",
       "      <th>plan</th>\n",
       "      <th>larrout</th>\n",
       "      <th>surf</th>\n",
       "      <th>infra</th>\n",
       "      <th>situ</th>\n",
       "      <th>env1</th>\n",
       "      <th>vma</th>\n",
       "      <th>an</th>\n",
       "      <th>mois</th>\n",
       "      <th>jour</th>\n",
       "      <th>hrmn</th>\n",
       "      <th>lum</th>\n",
       "      <th>agg</th>\n",
       "      <th>int</th>\n",
       "      <th>atm</th>\n",
       "      <th>col</th>\n",
       "      <th>com</th>\n",
       "      <th>gps</th>\n",
       "      <th>dep</th>\n",
       "      <th>place</th>\n",
       "      <th>catu</th>\n",
       "      <th>sexe</th>\n",
       "      <th>trajet</th>\n",
       "      <th>secu</th>\n",
       "      <th>locp</th>\n",
       "      <th>etatp</th>\n",
       "      <th>an_nais</th>\n",
       "      <th>num_veh</th>\n",
       "      <th>age</th>\n",
       "      <th>total_usagers</th>\n",
       "      <th>nb_conducteurs</th>\n",
       "      <th>nb_passagers</th>\n",
       "      <th>ratio_conducteurs</th>\n",
       "      <th>ratio_passagers</th>\n",
       "      <th>nombre_conducteur_avec_ceinture</th>\n",
       "      <th>nombre_passagers_avec_ceinture</th>\n",
       "      <th>nb_hommes</th>\n",
       "      <th>nb_femmes</th>\n",
       "      <th>nb_inconnue</th>\n",
       "      <th>senc</th>\n",
       "      <th>catv</th>\n",
       "      <th>obs</th>\n",
       "      <th>obsm</th>\n",
       "      <th>choc</th>\n",
       "      <th>manv</th>\n",
       "      <th>motor</th>\n",
       "      <th>Accident_Moto_Voiture</th>\n",
       "      <th>Accident_Moto_Camion</th>\n",
       "      <th>Accident_Voiture_Camion</th>\n",
       "      <th>Accident_Moto_Gauche</th>\n",
       "      <th>Colision_Voiture_Pieton</th>\n",
       "      <th>Colision_PL_Pieton</th>\n",
       "      <th>Colision_VL_Pieton</th>\n",
       "      <th>Collision_Frontale</th>\n",
       "    </tr>\n",
       "  </thead>\n",
       "  <tbody>\n",
       "    <tr>\n",
       "      <th>0</th>\n",
       "      <td>201200000001</td>\n",
       "      <td>3</td>\n",
       "      <td>-1.0</td>\n",
       "      <td>-1</td>\n",
       "      <td>2</td>\n",
       "      <td>0</td>\n",
       "      <td>6.0</td>\n",
       "      <td>875.0</td>\n",
       "      <td>0</td>\n",
       "      <td>1</td>\n",
       "      <td>1</td>\n",
       "      <td>1</td>\n",
       "      <td>1</td>\n",
       "      <td>0</td>\n",
       "      <td>1</td>\n",
       "      <td>0.0</td>\n",
       "      <td>-1.0</td>\n",
       "      <td>2012</td>\n",
       "      <td>3</td>\n",
       "      <td>16</td>\n",
       "      <td>1900</td>\n",
       "      <td>5</td>\n",
       "      <td>2</td>\n",
       "      <td>1</td>\n",
       "      <td>1</td>\n",
       "      <td>6</td>\n",
       "      <td>11</td>\n",
       "      <td>M</td>\n",
       "      <td>59</td>\n",
       "      <td>1.0</td>\n",
       "      <td>1</td>\n",
       "      <td>2</td>\n",
       "      <td>5.0</td>\n",
       "      <td>1.0</td>\n",
       "      <td>0.0</td>\n",
       "      <td>0.0</td>\n",
       "      <td>1939</td>\n",
       "      <td>A01</td>\n",
       "      <td>73</td>\n",
       "      <td>2</td>\n",
       "      <td>1</td>\n",
       "      <td>0</td>\n",
       "      <td>0.5</td>\n",
       "      <td>0.0</td>\n",
       "      <td>1.0</td>\n",
       "      <td>0.0</td>\n",
       "      <td>0</td>\n",
       "      <td>1</td>\n",
       "      <td>1</td>\n",
       "      <td>-1.0</td>\n",
       "      <td>7</td>\n",
       "      <td>0.0</td>\n",
       "      <td>1.0</td>\n",
       "      <td>7.0</td>\n",
       "      <td>16.0</td>\n",
       "      <td>-1.0</td>\n",
       "      <td>0</td>\n",
       "      <td>0</td>\n",
       "      <td>0</td>\n",
       "      <td>0</td>\n",
       "      <td>1</td>\n",
       "      <td>0</td>\n",
       "      <td>0</td>\n",
       "      <td>0</td>\n",
       "    </tr>\n",
       "    <tr>\n",
       "      <th>1</th>\n",
       "      <td>201200000001</td>\n",
       "      <td>3</td>\n",
       "      <td>-1.0</td>\n",
       "      <td>-1</td>\n",
       "      <td>2</td>\n",
       "      <td>0</td>\n",
       "      <td>6.0</td>\n",
       "      <td>875.0</td>\n",
       "      <td>0</td>\n",
       "      <td>1</td>\n",
       "      <td>1</td>\n",
       "      <td>1</td>\n",
       "      <td>1</td>\n",
       "      <td>0</td>\n",
       "      <td>1</td>\n",
       "      <td>0.0</td>\n",
       "      <td>-1.0</td>\n",
       "      <td>2012</td>\n",
       "      <td>3</td>\n",
       "      <td>16</td>\n",
       "      <td>1900</td>\n",
       "      <td>5</td>\n",
       "      <td>2</td>\n",
       "      <td>1</td>\n",
       "      <td>1</td>\n",
       "      <td>6</td>\n",
       "      <td>11</td>\n",
       "      <td>M</td>\n",
       "      <td>59</td>\n",
       "      <td>-1.0</td>\n",
       "      <td>3</td>\n",
       "      <td>1</td>\n",
       "      <td>5.0</td>\n",
       "      <td>-1.0</td>\n",
       "      <td>3.0</td>\n",
       "      <td>2.0</td>\n",
       "      <td>2008</td>\n",
       "      <td>A01</td>\n",
       "      <td>4</td>\n",
       "      <td>2</td>\n",
       "      <td>1</td>\n",
       "      <td>0</td>\n",
       "      <td>0.5</td>\n",
       "      <td>0.0</td>\n",
       "      <td>1.0</td>\n",
       "      <td>0.0</td>\n",
       "      <td>0</td>\n",
       "      <td>1</td>\n",
       "      <td>1</td>\n",
       "      <td>-1.0</td>\n",
       "      <td>7</td>\n",
       "      <td>0.0</td>\n",
       "      <td>1.0</td>\n",
       "      <td>7.0</td>\n",
       "      <td>16.0</td>\n",
       "      <td>-1.0</td>\n",
       "      <td>0</td>\n",
       "      <td>0</td>\n",
       "      <td>0</td>\n",
       "      <td>0</td>\n",
       "      <td>1</td>\n",
       "      <td>0</td>\n",
       "      <td>0</td>\n",
       "      <td>0</td>\n",
       "    </tr>\n",
       "    <tr>\n",
       "      <th>2</th>\n",
       "      <td>201200000002</td>\n",
       "      <td>3</td>\n",
       "      <td>-1.0</td>\n",
       "      <td>-1</td>\n",
       "      <td>2</td>\n",
       "      <td>2</td>\n",
       "      <td>13.0</td>\n",
       "      <td>250.0</td>\n",
       "      <td>0</td>\n",
       "      <td>1</td>\n",
       "      <td>1</td>\n",
       "      <td>1</td>\n",
       "      <td>1</td>\n",
       "      <td>0</td>\n",
       "      <td>1</td>\n",
       "      <td>99.0</td>\n",
       "      <td>-1.0</td>\n",
       "      <td>2012</td>\n",
       "      <td>9</td>\n",
       "      <td>1</td>\n",
       "      <td>2100</td>\n",
       "      <td>5</td>\n",
       "      <td>2</td>\n",
       "      <td>1</td>\n",
       "      <td>1</td>\n",
       "      <td>3</td>\n",
       "      <td>11</td>\n",
       "      <td>M</td>\n",
       "      <td>59</td>\n",
       "      <td>1.0</td>\n",
       "      <td>1</td>\n",
       "      <td>1</td>\n",
       "      <td>5.0</td>\n",
       "      <td>3.0</td>\n",
       "      <td>0.0</td>\n",
       "      <td>0.0</td>\n",
       "      <td>1994</td>\n",
       "      <td>A01</td>\n",
       "      <td>18</td>\n",
       "      <td>4</td>\n",
       "      <td>2</td>\n",
       "      <td>2</td>\n",
       "      <td>0.5</td>\n",
       "      <td>0.5</td>\n",
       "      <td>0.0</td>\n",
       "      <td>1.0</td>\n",
       "      <td>0</td>\n",
       "      <td>3</td>\n",
       "      <td>1</td>\n",
       "      <td>-1.0</td>\n",
       "      <td>7</td>\n",
       "      <td>0.0</td>\n",
       "      <td>2.0</td>\n",
       "      <td>3.0</td>\n",
       "      <td>16.0</td>\n",
       "      <td>-1.0</td>\n",
       "      <td>1</td>\n",
       "      <td>0</td>\n",
       "      <td>0</td>\n",
       "      <td>0</td>\n",
       "      <td>0</td>\n",
       "      <td>0</td>\n",
       "      <td>0</td>\n",
       "      <td>0</td>\n",
       "    </tr>\n",
       "    <tr>\n",
       "      <th>3</th>\n",
       "      <td>201200000002</td>\n",
       "      <td>3</td>\n",
       "      <td>-1.0</td>\n",
       "      <td>-1</td>\n",
       "      <td>2</td>\n",
       "      <td>2</td>\n",
       "      <td>13.0</td>\n",
       "      <td>250.0</td>\n",
       "      <td>0</td>\n",
       "      <td>1</td>\n",
       "      <td>1</td>\n",
       "      <td>1</td>\n",
       "      <td>1</td>\n",
       "      <td>0</td>\n",
       "      <td>1</td>\n",
       "      <td>99.0</td>\n",
       "      <td>-1.0</td>\n",
       "      <td>2012</td>\n",
       "      <td>9</td>\n",
       "      <td>1</td>\n",
       "      <td>2100</td>\n",
       "      <td>5</td>\n",
       "      <td>2</td>\n",
       "      <td>1</td>\n",
       "      <td>1</td>\n",
       "      <td>3</td>\n",
       "      <td>11</td>\n",
       "      <td>M</td>\n",
       "      <td>59</td>\n",
       "      <td>2.0</td>\n",
       "      <td>2</td>\n",
       "      <td>1</td>\n",
       "      <td>-1.0</td>\n",
       "      <td>1.0</td>\n",
       "      <td>0.0</td>\n",
       "      <td>0.0</td>\n",
       "      <td>1992</td>\n",
       "      <td>A01</td>\n",
       "      <td>20</td>\n",
       "      <td>4</td>\n",
       "      <td>2</td>\n",
       "      <td>2</td>\n",
       "      <td>0.5</td>\n",
       "      <td>0.5</td>\n",
       "      <td>0.0</td>\n",
       "      <td>1.0</td>\n",
       "      <td>0</td>\n",
       "      <td>3</td>\n",
       "      <td>1</td>\n",
       "      <td>-1.0</td>\n",
       "      <td>7</td>\n",
       "      <td>0.0</td>\n",
       "      <td>2.0</td>\n",
       "      <td>3.0</td>\n",
       "      <td>16.0</td>\n",
       "      <td>-1.0</td>\n",
       "      <td>1</td>\n",
       "      <td>0</td>\n",
       "      <td>0</td>\n",
       "      <td>0</td>\n",
       "      <td>0</td>\n",
       "      <td>0</td>\n",
       "      <td>0</td>\n",
       "      <td>0</td>\n",
       "    </tr>\n",
       "    <tr>\n",
       "      <th>4</th>\n",
       "      <td>201200000002</td>\n",
       "      <td>3</td>\n",
       "      <td>-1.0</td>\n",
       "      <td>-1</td>\n",
       "      <td>2</td>\n",
       "      <td>2</td>\n",
       "      <td>13.0</td>\n",
       "      <td>250.0</td>\n",
       "      <td>0</td>\n",
       "      <td>1</td>\n",
       "      <td>1</td>\n",
       "      <td>1</td>\n",
       "      <td>1</td>\n",
       "      <td>0</td>\n",
       "      <td>1</td>\n",
       "      <td>99.0</td>\n",
       "      <td>-1.0</td>\n",
       "      <td>2012</td>\n",
       "      <td>9</td>\n",
       "      <td>1</td>\n",
       "      <td>2100</td>\n",
       "      <td>5</td>\n",
       "      <td>2</td>\n",
       "      <td>1</td>\n",
       "      <td>1</td>\n",
       "      <td>3</td>\n",
       "      <td>11</td>\n",
       "      <td>M</td>\n",
       "      <td>59</td>\n",
       "      <td>1.0</td>\n",
       "      <td>1</td>\n",
       "      <td>1</td>\n",
       "      <td>5.0</td>\n",
       "      <td>2.0</td>\n",
       "      <td>0.0</td>\n",
       "      <td>0.0</td>\n",
       "      <td>1976</td>\n",
       "      <td>B02</td>\n",
       "      <td>36</td>\n",
       "      <td>4</td>\n",
       "      <td>2</td>\n",
       "      <td>2</td>\n",
       "      <td>0.5</td>\n",
       "      <td>0.5</td>\n",
       "      <td>0.0</td>\n",
       "      <td>1.0</td>\n",
       "      <td>0</td>\n",
       "      <td>3</td>\n",
       "      <td>1</td>\n",
       "      <td>-1.0</td>\n",
       "      <td>33</td>\n",
       "      <td>0.0</td>\n",
       "      <td>2.0</td>\n",
       "      <td>8.0</td>\n",
       "      <td>1.0</td>\n",
       "      <td>-1.0</td>\n",
       "      <td>1</td>\n",
       "      <td>0</td>\n",
       "      <td>0</td>\n",
       "      <td>0</td>\n",
       "      <td>0</td>\n",
       "      <td>0</td>\n",
       "      <td>0</td>\n",
       "      <td>0</td>\n",
       "    </tr>\n",
       "  </tbody>\n",
       "</table>\n",
       "</div>"
      ],
      "text/plain": [
       "        Num_Acc catr   v1  v2 circ  nbv    pr    pr1 vosp prof plan  larrout  \\\n",
       "0  201200000001    3 -1.0  -1    2    0   6.0  875.0    0    1    1        1   \n",
       "1  201200000001    3 -1.0  -1    2    0   6.0  875.0    0    1    1        1   \n",
       "2  201200000002    3 -1.0  -1    2    2  13.0  250.0    0    1    1        1   \n",
       "3  201200000002    3 -1.0  -1    2    2  13.0  250.0    0    1    1        1   \n",
       "4  201200000002    3 -1.0  -1    2    2  13.0  250.0    0    1    1        1   \n",
       "\n",
       "  surf infra situ  env1  vma    an  mois  jour  hrmn lum agg int atm col com  \\\n",
       "0    1     0    1   0.0 -1.0  2012     3    16  1900   5   2   1   1   6  11   \n",
       "1    1     0    1   0.0 -1.0  2012     3    16  1900   5   2   1   1   6  11   \n",
       "2    1     0    1  99.0 -1.0  2012     9     1  2100   5   2   1   1   3  11   \n",
       "3    1     0    1  99.0 -1.0  2012     9     1  2100   5   2   1   1   3  11   \n",
       "4    1     0    1  99.0 -1.0  2012     9     1  2100   5   2   1   1   3  11   \n",
       "\n",
       "  gps dep place catu sexe trajet secu locp etatp  an_nais num_veh  age  \\\n",
       "0   M  59   1.0    1    2    5.0  1.0  0.0   0.0     1939     A01   73   \n",
       "1   M  59  -1.0    3    1    5.0 -1.0  3.0   2.0     2008     A01    4   \n",
       "2   M  59   1.0    1    1    5.0  3.0  0.0   0.0     1994     A01   18   \n",
       "3   M  59   2.0    2    1   -1.0  1.0  0.0   0.0     1992     A01   20   \n",
       "4   M  59   1.0    1    1    5.0  2.0  0.0   0.0     1976     B02   36   \n",
       "\n",
       "   total_usagers  nb_conducteurs  nb_passagers  ratio_conducteurs  \\\n",
       "0              2               1             0                0.5   \n",
       "1              2               1             0                0.5   \n",
       "2              4               2             2                0.5   \n",
       "3              4               2             2                0.5   \n",
       "4              4               2             2                0.5   \n",
       "\n",
       "   ratio_passagers  nombre_conducteur_avec_ceinture  \\\n",
       "0              0.0                              1.0   \n",
       "1              0.0                              1.0   \n",
       "2              0.5                              0.0   \n",
       "3              0.5                              0.0   \n",
       "4              0.5                              0.0   \n",
       "\n",
       "   nombre_passagers_avec_ceinture  nb_hommes  nb_femmes nb_inconnue senc catv  \\\n",
       "0                             0.0          0          1           1 -1.0    7   \n",
       "1                             0.0          0          1           1 -1.0    7   \n",
       "2                             1.0          0          3           1 -1.0    7   \n",
       "3                             1.0          0          3           1 -1.0    7   \n",
       "4                             1.0          0          3           1 -1.0   33   \n",
       "\n",
       "   obs obsm choc  manv motor  Accident_Moto_Voiture  Accident_Moto_Camion  \\\n",
       "0  0.0  1.0  7.0  16.0  -1.0                      0                     0   \n",
       "1  0.0  1.0  7.0  16.0  -1.0                      0                     0   \n",
       "2  0.0  2.0  3.0  16.0  -1.0                      1                     0   \n",
       "3  0.0  2.0  3.0  16.0  -1.0                      1                     0   \n",
       "4  0.0  2.0  8.0   1.0  -1.0                      1                     0   \n",
       "\n",
       "   Accident_Voiture_Camion  Accident_Moto_Gauche  Colision_Voiture_Pieton  \\\n",
       "0                        0                     0                        1   \n",
       "1                        0                     0                        1   \n",
       "2                        0                     0                        0   \n",
       "3                        0                     0                        0   \n",
       "4                        0                     0                        0   \n",
       "\n",
       "   Colision_PL_Pieton  Colision_VL_Pieton  Collision_Frontale  \n",
       "0                   0                   0                   0  \n",
       "1                   0                   0                   0  \n",
       "2                   0                   0                   0  \n",
       "3                   0                   0                   0  \n",
       "4                   0                   0                   0  "
      ]
     },
     "execution_count": 52,
     "metadata": {},
     "output_type": "execute_result"
    }
   ],
   "source": [
    "df.head()"
   ]
  },
  {
   "cell_type": "code",
   "execution_count": 53,
   "metadata": {},
   "outputs": [],
   "source": [
    "df = df_grave.merge(df,on = 'Num_Acc',how  = 'left')"
   ]
  },
  {
   "cell_type": "code",
   "execution_count": 54,
   "metadata": {},
   "outputs": [],
   "source": [
    "list_features = df.columns\n",
    "list_features = [column for column in list_features if column not in ['GRAVE']]"
   ]
  },
  {
   "cell_type": "code",
   "execution_count": 55,
   "metadata": {},
   "outputs": [],
   "source": [
    "X = df.drop(['Num_Acc','GRAVE'],axis = 1)\n",
    "y = df['GRAVE']"
   ]
  },
  {
   "cell_type": "code",
   "execution_count": 56,
   "metadata": {},
   "outputs": [],
   "source": [
    "from sklearn.model_selection import train_test_split"
   ]
  },
  {
   "cell_type": "code",
   "execution_count": 57,
   "metadata": {},
   "outputs": [],
   "source": [
    "X_train, X_test, y_train, y_test = train_test_split(X, y, test_size=0.3, random_state=42)"
   ]
  },
  {
   "cell_type": "code",
   "execution_count": 58,
   "metadata": {},
   "outputs": [],
   "source": [
    "import lightgbm as lgb\n",
    "from sklearn.metrics import roc_auc_score"
   ]
  },
  {
   "cell_type": "code",
   "execution_count": 59,
   "metadata": {},
   "outputs": [],
   "source": [
    "def importance_values(feature_imp_df):\n",
    "    # Take only the top 20 features\n",
    "    top_20_features = feature_imp_df.head(20)\n",
    "\n",
    "    # Visualization with a bar chart\n",
    "    plt.figure(figsize=(10, 6))\n",
    "    plt.barh(top_20_features['Feature'], top_20_features['Importance'])\n",
    "    plt.xlabel('Importance')\n",
    "    plt.ylabel('Variables')\n",
    "    plt.title('Top 20 Most Important Variables in the LightGBM Model')\n",
    "    plt.gca().invert_yaxis()  # Invert the y-axis to have the most important variable at the top\n",
    "    plt.show()\n"
   ]
  },
  {
   "cell_type": "code",
   "execution_count": 60,
   "metadata": {},
   "outputs": [],
   "source": [
    "def loss_curve(evals_result):\n",
    "    # Extract L1 scores for training and validation sets\n",
    "    train_l1 = evals_result['training']['l1']\n",
    "    test_l1 = evals_result['valid_1']['l1']\n",
    "\n",
    "    # Create the plot\n",
    "    plt.figure(figsize=(10, 6))\n",
    "    plt.plot(train_l1, label='Train')\n",
    "    plt.plot(test_l1, label='Test')\n",
    "    plt.title('LightGBM Model Learning Curve')\n",
    "    plt.xlabel('Number of Iterations')\n",
    "    plt.ylabel('L1 Loss')\n",
    "    plt.legend()\n",
    "    plt.show()"
   ]
  },
  {
   "cell_type": "code",
   "execution_count": 61,
   "metadata": {},
   "outputs": [],
   "source": [
    "def auc_curve(evals_result):\n",
    "    train_auc = evals_result['training']['auc']\n",
    "    test_auc = evals_result['valid_1']['auc']\n",
    "\n",
    "    # Plot for AUC\n",
    "    plt.figure(figsize=(10, 6))\n",
    "    plt.plot(train_auc, label='Train AUC')\n",
    "    plt.plot(test_auc, label='Test AUC')\n",
    "    plt.title('AUC Evolution Over Iterations')\n",
    "    plt.xlabel('Number of Iterations')\n",
    "    plt.ylabel('AUC')\n",
    "    plt.legend()\n",
    "    plt.show()"
   ]
  },
  {
   "cell_type": "code",
   "execution_count": 62,
   "metadata": {},
   "outputs": [],
   "source": [
    "def training_model(model,X,y):\n",
    "\n",
    "    X_train, X_test, y_train, y_test = train_test_split(X, y, test_size=0.3, random_state=42)\n",
    "    evals_result = {}\n",
    "\n",
    "    model.fit(X_train, y_train,\n",
    "            eval_set=[(X_train, y_train), (X_test, y_test)],\n",
    "            eval_metric=['auc', 'l1'])\n",
    "\n",
    "    y_pred_proba_lgb = model.predict_proba(X_test)[:, 1]\n",
    "    auc_lgb = roc_auc_score(y_test, y_pred_proba_lgb)\n",
    "    print(\"AUC LightGBM:\", auc_lgb)\n",
    "\n",
    "    # Extraction des importances des variables\n",
    "    feature_importances = model.feature_importances_\n",
    "\n",
    "    evals_result = model.evals_result_\n",
    "\n",
    "    feature_imp_df = pd.DataFrame({\n",
    "    'Feature': X.columns,\n",
    "    'Importance': feature_importances\n",
    "    }).sort_values(by='Importance', ascending=False)\n",
    "\n",
    "    importance_values(feature_imp_df)\n",
    "    loss_curve(evals_result)\n",
    "    auc_curve(evals_result)\n",
    "\n",
    "    return feature_imp_df,model"
   ]
  },
  {
   "cell_type": "code",
   "execution_count": 63,
   "metadata": {},
   "outputs": [],
   "source": [
    "lgb_model = lgb.LGBMClassifier(boosting_type = 'gbdt',objective='binary',learning_rate = 0.1,n_estimators = 200,min_child_samples = 1200,num_leaves = 100)"
   ]
  },
  {
   "cell_type": "markdown",
   "metadata": {},
   "source": [
    "## **MODELE AVEC TOUTES LES VARIABLES :**"
   ]
  },
  {
   "cell_type": "code",
   "execution_count": 64,
   "metadata": {},
   "outputs": [
    {
     "name": "stdout",
     "output_type": "stream",
     "text": [
      "[LightGBM] [Warning] Categorical features with more bins than the configured maximum bin number found.\n",
      "[LightGBM] [Warning] For categorical features, max_bin and max_bin_by_feature may be ignored with a large number of categories.\n",
      "[LightGBM] [Info] Number of positive: 364155, number of negative: 532819\n",
      "[LightGBM] [Info] Auto-choosing row-wise multi-threading, the overhead of testing was 0.080817 seconds.\n",
      "You can set `force_row_wise=true` to remove the overhead.\n",
      "And if memory is not enough, you can set `force_col_wise=true`.\n",
      "[LightGBM] [Info] Total Bins 7767\n",
      "[LightGBM] [Info] Number of data points in the train set: 896974, number of used features: 63\n",
      "[LightGBM] [Info] [binary:BoostFromScore]: pavg=0.405982 -> initscore=-0.380602\n",
      "[LightGBM] [Info] Start training from score -0.380602\n",
      "AUC LightGBM: 0.882968580278982\n"
     ]
    },
    {
     "data": {
      "image/png": "[encoded data removed]",
      "text/plain": [
       "<Figure size 1000x600 with 1 Axes>"
      ]
     },
     "metadata": {},
     "output_type": "display_data"
    },
    {
     "data": {
      "image/png": "[encoded data removed]",
      "text/plain": [
       "<Figure size 1000x600 with 1 Axes>"
      ]
     },
     "metadata": {},
     "output_type": "display_data"
    },
    {
     "data": {
      "image/png": "[encoded data removed]",
      "text/plain": [
       "<Figure size 1000x600 with 1 Axes>"
      ]
     },
     "metadata": {},
     "output_type": "display_data"
    }
   ],
   "source": [
    "feature_imp_df,model = training_model(lgb_model,X,y)"
   ]
  },
  {
   "cell_type": "markdown",
   "metadata": {},
   "source": [
    "## **MODELE AVEC LES MEILLEURS VARIABLES :**"
   ]
  },
  {
   "cell_type": "code",
   "execution_count": 65,
   "metadata": {},
   "outputs": [],
   "source": [
    "df_clean = df.copy()"
   ]
  },
  {
   "cell_type": "code",
   "execution_count": 66,
   "metadata": {},
   "outputs": [],
   "source": [
    "best_features = feature_imp_df[feature_imp_df['Importance'] > 0]"
   ]
  },
  {
   "cell_type": "code",
   "execution_count": 67,
   "metadata": {},
   "outputs": [],
   "source": [
    "X = df_clean[best_features['Feature'].to_list()]\n",
    "y = df_clean['GRAVE']"
   ]
  },
  {
   "cell_type": "code",
   "execution_count": 68,
   "metadata": {},
   "outputs": [
    {
     "data": {
      "text/html": [
       "<div>\n",
       "<style scoped>\n",
       "    .dataframe tbody tr th:only-of-type {\n",
       "        vertical-align: middle;\n",
       "    }\n",
       "\n",
       "    .dataframe tbody tr th {\n",
       "        vertical-align: top;\n",
       "    }\n",
       "\n",
       "    .dataframe thead th {\n",
       "        text-align: right;\n",
       "    }\n",
       "</style>\n",
       "<table border=\"1\" class=\"dataframe\">\n",
       "  <thead>\n",
       "    <tr style=\"text-align: right;\">\n",
       "      <th></th>\n",
       "      <th>5</th>\n",
       "      <th>27</th>\n",
       "      <th>25</th>\n",
       "      <th>53</th>\n",
       "      <th>49</th>\n",
       "      <th>6</th>\n",
       "      <th>24</th>\n",
       "      <th>50</th>\n",
       "      <th>16</th>\n",
       "      <th>52</th>\n",
       "      <th>55</th>\n",
       "      <th>19</th>\n",
       "      <th>47</th>\n",
       "      <th>38</th>\n",
       "      <th>46</th>\n",
       "      <th>43</th>\n",
       "      <th>0</th>\n",
       "      <th>22</th>\n",
       "      <th>31</th>\n",
       "      <th>32</th>\n",
       "      <th>36</th>\n",
       "      <th>41</th>\n",
       "      <th>13</th>\n",
       "      <th>33</th>\n",
       "      <th>15</th>\n",
       "      <th>10</th>\n",
       "      <th>51</th>\n",
       "      <th>3</th>\n",
       "      <th>37</th>\n",
       "      <th>17</th>\n",
       "      <th>42</th>\n",
       "      <th>2</th>\n",
       "      <th>18</th>\n",
       "      <th>20</th>\n",
       "      <th>59</th>\n",
       "      <th>4</th>\n",
       "      <th>44</th>\n",
       "      <th>21</th>\n",
       "      <th>26</th>\n",
       "      <th>12</th>\n",
       "      <th>35</th>\n",
       "      <th>23</th>\n",
       "      <th>40</th>\n",
       "      <th>9</th>\n",
       "      <th>11</th>\n",
       "      <th>48</th>\n",
       "      <th>8</th>\n",
       "      <th>1</th>\n",
       "      <th>39</th>\n",
       "      <th>60</th>\n",
       "      <th>56</th>\n",
       "      <th>14</th>\n",
       "      <th>28</th>\n",
       "      <th>57</th>\n",
       "      <th>7</th>\n",
       "      <th>45</th>\n",
       "      <th>62</th>\n",
       "      <th>54</th>\n",
       "      <th>30</th>\n",
       "      <th>34</th>\n",
       "      <th>61</th>\n",
       "      <th>29</th>\n",
       "    </tr>\n",
       "  </thead>\n",
       "  <tbody>\n",
       "    <tr>\n",
       "      <th>Feature</th>\n",
       "      <td>pr</td>\n",
       "      <td>dep</td>\n",
       "      <td>com</td>\n",
       "      <td>manv</td>\n",
       "      <td>catv</td>\n",
       "      <td>pr1</td>\n",
       "      <td>col</td>\n",
       "      <td>obs</td>\n",
       "      <td>an</td>\n",
       "      <td>choc</td>\n",
       "      <td>Accident_Moto_Voiture</td>\n",
       "      <td>hrmn</td>\n",
       "      <td>nb_inconnue</td>\n",
       "      <td>total_usagers</td>\n",
       "      <td>nb_femmes</td>\n",
       "      <td>nombre_conducteur_avec_ceinture</td>\n",
       "      <td>catr</td>\n",
       "      <td>int</td>\n",
       "      <td>trajet</td>\n",
       "      <td>secu</td>\n",
       "      <td>num_veh</td>\n",
       "      <td>ratio_conducteurs</td>\n",
       "      <td>situ</td>\n",
       "      <td>locp</td>\n",
       "      <td>vma</td>\n",
       "      <td>larrout</td>\n",
       "      <td>obsm</td>\n",
       "      <td>circ</td>\n",
       "      <td>age</td>\n",
       "      <td>mois</td>\n",
       "      <td>ratio_passagers</td>\n",
       "      <td>v2</td>\n",
       "      <td>jour</td>\n",
       "      <td>lum</td>\n",
       "      <td>Colision_Voiture_Pieton</td>\n",
       "      <td>nbv</td>\n",
       "      <td>nombre_passagers_avec_ceinture</td>\n",
       "      <td>agg</td>\n",
       "      <td>gps</td>\n",
       "      <td>infra</td>\n",
       "      <td>an_nais</td>\n",
       "      <td>atm</td>\n",
       "      <td>nb_passagers</td>\n",
       "      <td>plan</td>\n",
       "      <td>surf</td>\n",
       "      <td>senc</td>\n",
       "      <td>prof</td>\n",
       "      <td>v1</td>\n",
       "      <td>nb_conducteurs</td>\n",
       "      <td>Colision_PL_Pieton</td>\n",
       "      <td>Accident_Moto_Camion</td>\n",
       "      <td>env1</td>\n",
       "      <td>place</td>\n",
       "      <td>Accident_Voiture_Camion</td>\n",
       "      <td>vosp</td>\n",
       "      <td>nb_hommes</td>\n",
       "      <td>Collision_Frontale</td>\n",
       "      <td>motor</td>\n",
       "      <td>sexe</td>\n",
       "      <td>etatp</td>\n",
       "      <td>Colision_VL_Pieton</td>\n",
       "      <td>catu</td>\n",
       "    </tr>\n",
       "    <tr>\n",
       "      <th>Importance</th>\n",
       "      <td>6093</td>\n",
       "      <td>5757</td>\n",
       "      <td>1949</td>\n",
       "      <td>707</td>\n",
       "      <td>457</td>\n",
       "      <td>335</td>\n",
       "      <td>330</td>\n",
       "      <td>233</td>\n",
       "      <td>215</td>\n",
       "      <td>212</td>\n",
       "      <td>177</td>\n",
       "      <td>174</td>\n",
       "      <td>142</td>\n",
       "      <td>140</td>\n",
       "      <td>134</td>\n",
       "      <td>128</td>\n",
       "      <td>127</td>\n",
       "      <td>124</td>\n",
       "      <td>122</td>\n",
       "      <td>120</td>\n",
       "      <td>105</td>\n",
       "      <td>99</td>\n",
       "      <td>94</td>\n",
       "      <td>93</td>\n",
       "      <td>92</td>\n",
       "      <td>91</td>\n",
       "      <td>90</td>\n",
       "      <td>84</td>\n",
       "      <td>84</td>\n",
       "      <td>82</td>\n",
       "      <td>78</td>\n",
       "      <td>75</td>\n",
       "      <td>75</td>\n",
       "      <td>72</td>\n",
       "      <td>69</td>\n",
       "      <td>67</td>\n",
       "      <td>67</td>\n",
       "      <td>66</td>\n",
       "      <td>57</td>\n",
       "      <td>56</td>\n",
       "      <td>55</td>\n",
       "      <td>54</td>\n",
       "      <td>42</td>\n",
       "      <td>38</td>\n",
       "      <td>34</td>\n",
       "      <td>30</td>\n",
       "      <td>29</td>\n",
       "      <td>29</td>\n",
       "      <td>28</td>\n",
       "      <td>28</td>\n",
       "      <td>27</td>\n",
       "      <td>24</td>\n",
       "      <td>23</td>\n",
       "      <td>22</td>\n",
       "      <td>19</td>\n",
       "      <td>17</td>\n",
       "      <td>11</td>\n",
       "      <td>6</td>\n",
       "      <td>4</td>\n",
       "      <td>3</td>\n",
       "      <td>3</td>\n",
       "      <td>2</td>\n",
       "    </tr>\n",
       "  </tbody>\n",
       "</table>\n",
       "</div>"
      ],
      "text/plain": [
       "              5     27    25    53    49   6    24   50   16    52  \\\n",
       "Feature       pr   dep   com  manv  catv  pr1  col  obs   an  choc   \n",
       "Importance  6093  5757  1949   707   457  335  330  233  215   212   \n",
       "\n",
       "                               55    19           47             38  \\\n",
       "Feature     Accident_Moto_Voiture  hrmn  nb_inconnue  total_usagers   \n",
       "Importance                    177   174          142            140   \n",
       "\n",
       "                   46                               43    0    22      31  \\\n",
       "Feature     nb_femmes  nombre_conducteur_avec_ceinture  catr  int  trajet   \n",
       "Importance        134                              128   127  124     122   \n",
       "\n",
       "              32       36                 41    13    33   15       10    51  \\\n",
       "Feature     secu  num_veh  ratio_conducteurs  situ  locp  vma  larrout  obsm   \n",
       "Importance   120      105                 99    94    93   92       91    90   \n",
       "\n",
       "              3    37    17               42  2     18   20  \\\n",
       "Feature     circ  age  mois  ratio_passagers  v2  jour  lum   \n",
       "Importance    84   84    82               78  75    75   72   \n",
       "\n",
       "                                 59   4                               44   21  \\\n",
       "Feature     Colision_Voiture_Pieton  nbv  nombre_passagers_avec_ceinture  agg   \n",
       "Importance                       69   67                              67   66   \n",
       "\n",
       "             26     12       35   23            40    9     11    48    8   \\\n",
       "Feature     gps  infra  an_nais  atm  nb_passagers  plan  surf  senc  prof   \n",
       "Importance   57     56       55   54            42    38    34    30    29   \n",
       "\n",
       "            1               39                  60                    56  \\\n",
       "Feature     v1  nb_conducteurs  Colision_PL_Pieton  Accident_Moto_Camion   \n",
       "Importance  29              28                  28                    27   \n",
       "\n",
       "              14     28                       57    7          45  \\\n",
       "Feature     env1  place  Accident_Voiture_Camion  vosp  nb_hommes   \n",
       "Importance    24     23                       22    19         17   \n",
       "\n",
       "                            62     54    30     34                  61    29  \n",
       "Feature     Collision_Frontale  motor  sexe  etatp  Colision_VL_Pieton  catu  \n",
       "Importance                  11      6     4      3                   3     2  "
      ]
     },
     "execution_count": 68,
     "metadata": {},
     "output_type": "execute_result"
    }
   ],
   "source": [
    "best_features.T"
   ]
  },
  {
   "cell_type": "code",
   "execution_count": 69,
   "metadata": {},
   "outputs": [],
   "source": [
    "lgb_model = lgb.LGBMClassifier(boosting_type = 'gbdt',objective='binary',learning_rate = 0.1,n_estimators = 200,min_child_samples = 1200,num_leaves = 100)"
   ]
  },
  {
   "cell_type": "code",
   "execution_count": 70,
   "metadata": {},
   "outputs": [
    {
     "name": "stdout",
     "output_type": "stream",
     "text": [
      "[LightGBM] [Warning] Categorical features with more bins than the configured maximum bin number found.\n",
      "[LightGBM] [Warning] For categorical features, max_bin and max_bin_by_feature may be ignored with a large number of categories.\n",
      "[LightGBM] [Info] Number of positive: 364155, number of negative: 532819\n",
      "[LightGBM] [Info] Auto-choosing row-wise multi-threading, the overhead of testing was 0.086710 seconds.\n",
      "You can set `force_row_wise=true` to remove the overhead.\n",
      "And if memory is not enough, you can set `force_col_wise=true`.\n",
      "[LightGBM] [Info] Total Bins 7765\n",
      "[LightGBM] [Info] Number of data points in the train set: 896974, number of used features: 62\n",
      "[LightGBM] [Info] [binary:BoostFromScore]: pavg=0.405982 -> initscore=-0.380602\n",
      "[LightGBM] [Info] Start training from score -0.380602\n",
      "AUC LightGBM: 0.882968580278982\n"
     ]
    },
    {
     "data": {
      "image/png": "[encoded data removed]",
      "text/plain": [
       "<Figure size 1000x600 with 1 Axes>"
      ]
     },
     "metadata": {},
     "output_type": "display_data"
    },
    {
     "data": {
      "image/png": "[encoded data removed]",
      "text/plain": [
       "<Figure size 1000x600 with 1 Axes>"
      ]
     },
     "metadata": {},
     "output_type": "display_data"
    },
    {
     "data": {
      "image/png": "[encoded data removed]",
      "text/plain": [
       "<Figure size 1000x600 with 1 Axes>"
      ]
     },
     "metadata": {},
     "output_type": "display_data"
    }
   ],
   "source": [
    "feature_imp_df_final,model_best_features = training_model(lgb_model,X,y)"
   ]
  },
  {
   "cell_type": "markdown",
   "metadata": {},
   "source": [
    "# **PREDICTIONS :**"
   ]
  },
  {
   "cell_type": "code",
   "execution_count": 78,
   "metadata": {},
   "outputs": [
    {
     "name": "stderr",
     "output_type": "stream",
     "text": [
      "C:\\Users\\lucie\\AppData\\Local\\Temp\\ipykernel_22844\\2856563717.py:1: DtypeWarning: Columns (4,10,13,14,15) have mixed types. Specify dtype option on import or set low_memory=False.\n",
      "  caracretistiques_test = pd.read_csv('TEST/CARACTERISTIQUES.csv',delimiter = ',')\n"
     ]
    }
   ],
   "source": [
    "caracretistiques_test = pd.read_csv('TEST/CARACTERISTIQUES.csv',delimiter = ',')"
   ]
  },
  {
   "cell_type": "code",
   "execution_count": 79,
   "metadata": {},
   "outputs": [
    {
     "name": "stderr",
     "output_type": "stream",
     "text": [
      "C:\\Users\\lucie\\AppData\\Local\\Temp\\ipykernel_22844\\2983500007.py:1: DtypeWarning: Columns (7) have mixed types. Specify dtype option on import or set low_memory=False.\n",
      "  usagers_test = pd.read_csv('TEST/USAGERS.csv',delimiter = ',')\n"
     ]
    }
   ],
   "source": [
    "usagers_test = pd.read_csv('TEST/USAGERS.csv',delimiter = ',')"
   ]
  },
  {
   "cell_type": "code",
   "execution_count": 80,
   "metadata": {},
   "outputs": [
    {
     "name": "stderr",
     "output_type": "stream",
     "text": [
      "C:\\Users\\lucie\\AppData\\Local\\Temp\\ipykernel_22844\\2288480637.py:1: DtypeWarning: Columns (9) have mixed types. Specify dtype option on import or set low_memory=False.\n",
      "  vehicules_test = pd.read_csv('TEST/VEHICULES.csv',delimiter = ',')\n"
     ]
    }
   ],
   "source": [
    "vehicules_test = pd.read_csv('TEST/VEHICULES.csv',delimiter = ',')"
   ]
  },
  {
   "cell_type": "code",
   "execution_count": 81,
   "metadata": {},
   "outputs": [
    {
     "name": "stderr",
     "output_type": "stream",
     "text": [
      "C:\\Users\\lucie\\AppData\\Local\\Temp\\ipykernel_22844\\471374127.py:1: DtypeWarning: Columns (7,8,12,13) have mixed types. Specify dtype option on import or set low_memory=False.\n",
      "  lieux_test = pd.read_csv('TEST/LIEUX.csv',delimiter = ',')\n"
     ]
    }
   ],
   "source": [
    "lieux_test = pd.read_csv('TEST/LIEUX.csv',delimiter = ',')"
   ]
  },
  {
   "cell_type": "code",
   "execution_count": 82,
   "metadata": {},
   "outputs": [],
   "source": [
    "usagers_test = feature_engineering_usagers(usagers_test)\n",
    "\n",
    "vehicules_test = feature_engineering_vehicules(vehicules_test)\n",
    "\n",
    "caracretistiques_test = feature_engineering_caracteristiques(caracretistiques_test)\n",
    "\n",
    "lieux_test = feature_engineering_lieux(lieux_test)"
   ]
  },
  {
   "cell_type": "code",
   "execution_count": 83,
   "metadata": {},
   "outputs": [],
   "source": [
    "df = usagers_test.merge(vehicules_test,on = ['Num_Acc','num_veh'],how  = 'left')\n",
    "df['num_veh'] = df['num_veh'].astype(\"category\")\n",
    "df = caracretistiques_test.merge(df,on = 'Num_Acc',how  = 'left')\n",
    "df = lieux_test.merge(df,on = 'Num_Acc',how  = 'left')"
   ]
  },
  {
   "cell_type": "code",
   "execution_count": 84,
   "metadata": {},
   "outputs": [],
   "source": [
    "df = df[list_features]"
   ]
  },
  {
   "cell_type": "code",
   "execution_count": 85,
   "metadata": {},
   "outputs": [
    {
     "data": {
      "text/plain": [
       "64"
      ]
     },
     "execution_count": 85,
     "metadata": {},
     "output_type": "execute_result"
    }
   ],
   "source": [
    "len(list_features)"
   ]
  },
  {
   "cell_type": "code",
   "execution_count": 86,
   "metadata": {},
   "outputs": [
    {
     "name": "stdout",
     "output_type": "stream",
     "text": [
      "Colonnes manquantes dans df: []\n",
      "Colonnes en excès dans df: []\n"
     ]
    }
   ],
   "source": [
    "# Vérifiez si chaque élément dans list_features est une colonne dans df\n",
    "missing_columns = [col for col in list_features if col not in df.columns]\n",
    "extra_columns = [col for col in df.columns if col not in list_features]\n",
    "\n",
    "print(\"Colonnes manquantes dans df:\", missing_columns)\n",
    "print(\"Colonnes en excès dans df:\", extra_columns)"
   ]
  },
  {
   "cell_type": "code",
   "execution_count": 87,
   "metadata": {},
   "outputs": [
    {
     "name": "stdout",
     "output_type": "stream",
     "text": [
      "Colonnes dupliquées et leur nombre d'occurrences :\n"
     ]
    }
   ],
   "source": [
    "# Supposons que df est votre DataFrame\n",
    "column_names = df.columns\n",
    "\n",
    "# Utiliser collections.Counter pour compter les occurrences de chaque nom de colonne\n",
    "from collections import Counter\n",
    "column_count = Counter(column_names)\n",
    "\n",
    "# Filtrer pour trouver les colonnes dupliquées\n",
    "duplicates = {item: count for item, count in column_count.items() if count > 1}\n",
    "\n",
    "print(\"Colonnes dupliquées et leur nombre d'occurrences :\")\n",
    "for column, count in duplicates.items():\n",
    "    print(f\"{column}: {count}\")"
   ]
  },
  {
   "cell_type": "code",
   "execution_count": 88,
   "metadata": {},
   "outputs": [],
   "source": [
    "X = df.drop('Num_Acc',axis = 1)"
   ]
  },
  {
   "cell_type": "code",
   "execution_count": 89,
   "metadata": {},
   "outputs": [],
   "source": [
    "y_pred_new = model.predict(X)\n",
    "probabilities_new = model.predict_proba(X)[:, 1] "
   ]
  },
  {
   "cell_type": "code",
   "execution_count": 90,
   "metadata": {},
   "outputs": [],
   "source": [
    "results = pd.DataFrame({\n",
    "    'Num_Acc': df['Num_Acc'],\n",
    "    'GRAVE': probabilities_new\n",
    "})"
   ]
  },
  {
   "cell_type": "code",
   "execution_count": 91,
   "metadata": {},
   "outputs": [],
   "source": [
    "result = results.groupby('Num_Acc')['GRAVE'].max().reset_index()"
   ]
  },
  {
   "cell_type": "code",
   "execution_count": 92,
   "metadata": {},
   "outputs": [],
   "source": [
    "result.to_csv('LIGHTGBM_ALLFEATURES_SANSAGG.csv',sep = ',', index = False)"
   ]
  },
  {
   "cell_type": "code",
   "execution_count": 93,
   "metadata": {},
   "outputs": [],
   "source": [
    "X = df[best_features['Feature'].to_list()]"
   ]
  },
  {
   "cell_type": "code",
   "execution_count": 94,
   "metadata": {},
   "outputs": [],
   "source": [
    "y_pred_new = model_best_features.predict(X)\n",
    "probabilities_new = model_best_features.predict_proba(X)[:, 1] "
   ]
  },
  {
   "cell_type": "code",
   "execution_count": 95,
   "metadata": {},
   "outputs": [],
   "source": [
    "results = pd.DataFrame({\n",
    "    'Num_Acc': df['Num_Acc'],\n",
    "    'GRAVE': probabilities_new\n",
    "})"
   ]
  },
  {
   "cell_type": "code",
   "execution_count": 96,
   "metadata": {},
   "outputs": [],
   "source": [
    "result = results.groupby('Num_Acc')['GRAVE'].max().reset_index()"
   ]
  },
  {
   "cell_type": "code",
   "execution_count": 97,
   "metadata": {},
   "outputs": [],
   "source": [
    "#result.to_csv('LIGHTGBM_BESTFEATURES_SANSAGG.csv',sep = ',', index = False)"
   ]
  }
 ],
 "metadata": {
  "kernelspec": {
   "display_name": "base",
   "language": "python",
   "name": "python3"
  },
  "language_info": {
   "codemirror_mode": {
    "name": "ipython",
    "version": 3
   },
   "file_extension": ".py",
   "mimetype": "text/x-python",
   "name": "python",
   "nbconvert_exporter": "python",
   "pygments_lexer": "ipython3",
   "version": "3.11.7"
  }
 },
 "nbformat": 4,
 "nbformat_minor": 2
}
